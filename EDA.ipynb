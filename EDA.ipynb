{
 "cells": [
  {
   "cell_type": "code",
   "execution_count": 1,
   "metadata": {},
   "outputs": [],
   "source": [
    "# import packages \n",
    "import pandas as pd\n",
    "import numpy as np\n",
    "import glob\n",
    "import json"
   ]
  },
  {
   "cell_type": "code",
   "execution_count": 2,
   "metadata": {},
   "outputs": [],
   "source": [
    "def load_kickstarter_data(datapath):\n",
    "    '''datapath = location of csv files to be loaded'''\n",
    "    # List with the names of all the csv files in the path\n",
    "    csv_files = glob.glob(datapath+'/*.csv')\n",
    "\n",
    "    print(f'Total files: {len(csv_files)}')\n",
    "\n",
    "    # Loop through the files\n",
    "    for file_idx, csv_file in enumerate(csv_files): \n",
    "        # create dataframe from 1st csv       \n",
    "        if file_idx == 0:\n",
    "            df_ks = pd.read_csv(csv_file)\n",
    "            print(f'File number {file_idx + 1} added to dataframe')\n",
    "        else:\n",
    "            # create dataframe from idx csv\n",
    "            df = pd.read_csv(csv_file)\n",
    "            # check files are all in same\n",
    "            if  np.all(df.columns == df_ks.columns) == False:\n",
    "                print(f'Column format of {csv_file} does not match {csv_files[0]}. Please check and try again')\n",
    "                return\n",
    "            else:\n",
    "                # append to initial dataframe                   \n",
    "                df_ks = pd.concat([df_ks, df], axis=0, ignore_index=True)       \n",
    "                print(f'File number {file_idx + 1} added to dataframe')\n",
    "    print('File import done')\n",
    "    return df_ks"
   ]
  },
  {
   "cell_type": "code",
   "execution_count": 3,
   "metadata": {},
   "outputs": [
    {
     "name": "stdout",
     "output_type": "stream",
     "text": [
      "Total files: 56\n",
      "File number 1 added to dataframe\n",
      "File number 2 added to dataframe\n",
      "File number 3 added to dataframe\n",
      "File number 4 added to dataframe\n",
      "File number 5 added to dataframe\n",
      "File number 6 added to dataframe\n",
      "File number 7 added to dataframe\n",
      "File number 8 added to dataframe\n",
      "File number 9 added to dataframe\n",
      "File number 10 added to dataframe\n",
      "File number 11 added to dataframe\n",
      "File number 12 added to dataframe\n",
      "File number 13 added to dataframe\n",
      "File number 14 added to dataframe\n",
      "File number 15 added to dataframe\n",
      "File number 16 added to dataframe\n",
      "File number 17 added to dataframe\n",
      "File number 18 added to dataframe\n",
      "File number 19 added to dataframe\n",
      "File number 20 added to dataframe\n",
      "File number 21 added to dataframe\n",
      "File number 22 added to dataframe\n",
      "File number 23 added to dataframe\n",
      "File number 24 added to dataframe\n",
      "File number 25 added to dataframe\n",
      "File number 26 added to dataframe\n",
      "File number 27 added to dataframe\n",
      "File number 28 added to dataframe\n",
      "File number 29 added to dataframe\n",
      "File number 30 added to dataframe\n",
      "File number 31 added to dataframe\n",
      "File number 32 added to dataframe\n",
      "File number 33 added to dataframe\n",
      "File number 34 added to dataframe\n",
      "File number 35 added to dataframe\n",
      "File number 36 added to dataframe\n",
      "File number 37 added to dataframe\n",
      "File number 38 added to dataframe\n",
      "File number 39 added to dataframe\n",
      "File number 40 added to dataframe\n",
      "File number 41 added to dataframe\n",
      "File number 42 added to dataframe\n",
      "File number 43 added to dataframe\n",
      "File number 44 added to dataframe\n",
      "File number 45 added to dataframe\n",
      "File number 46 added to dataframe\n",
      "File number 47 added to dataframe\n",
      "File number 48 added to dataframe\n",
      "File number 49 added to dataframe\n",
      "File number 50 added to dataframe\n",
      "File number 51 added to dataframe\n",
      "File number 52 added to dataframe\n",
      "File number 53 added to dataframe\n",
      "File number 54 added to dataframe\n",
      "File number 55 added to dataframe\n",
      "File number 56 added to dataframe\n",
      "File import done\n"
     ]
    }
   ],
   "source": [
    "df = load_kickstarter_data('kickstarter/data')"
   ]
  },
  {
   "cell_type": "markdown",
   "metadata": {},
   "source": []
  },
  {
   "cell_type": "code",
   "execution_count": 4,
   "metadata": {},
   "outputs": [
    {
     "data": {
      "text/plain": [
       "Index(['backers_count', 'blurb', 'category', 'converted_pledged_amount',\n",
       "       'country', 'created_at', 'creator', 'currency', 'currency_symbol',\n",
       "       'currency_trailing_code', 'current_currency', 'deadline',\n",
       "       'disable_communication', 'friends', 'fx_rate', 'goal', 'id',\n",
       "       'is_backing', 'is_starrable', 'is_starred', 'launched_at', 'location',\n",
       "       'name', 'permissions', 'photo', 'pledged', 'profile', 'slug',\n",
       "       'source_url', 'spotlight', 'staff_pick', 'state', 'state_changed_at',\n",
       "       'static_usd_rate', 'urls', 'usd_pledged', 'usd_type'],\n",
       "      dtype='object')"
      ]
     },
     "execution_count": 4,
     "metadata": {},
     "output_type": "execute_result"
    }
   ],
   "source": [
    "df.columns"
   ]
  },
  {
   "cell_type": "code",
   "execution_count": 5,
   "metadata": {},
   "outputs": [],
   "source": [
    "def extract_json_data(data):\n",
    "    ''' This function extracts specific sub fields from json files embedded in columns of a dataframe\n",
    "        data: dataframe containing column with json data'''\n",
    "    data['category_name'] = pd.DataFrame([json.loads(data[\"category\"][i])['name'] for i in range(data.shape[0])])\n",
    "    return data\n",
    "#df2 = extract_json_data(df)"
   ]
  },
  {
   "cell_type": "code",
   "execution_count": 6,
   "metadata": {},
   "outputs": [],
   "source": [
    "df = extract_json_data(df)\n"
   ]
  },
  {
   "cell_type": "code",
   "execution_count": 7,
   "metadata": {},
   "outputs": [
    {
     "data": {
      "text/plain": [
       "Index(['backers_count', 'blurb', 'category', 'converted_pledged_amount',\n",
       "       'country', 'created_at', 'creator', 'currency', 'currency_symbol',\n",
       "       'currency_trailing_code', 'current_currency', 'deadline',\n",
       "       'disable_communication', 'friends', 'fx_rate', 'goal', 'id',\n",
       "       'is_backing', 'is_starrable', 'is_starred', 'launched_at', 'location',\n",
       "       'name', 'permissions', 'photo', 'pledged', 'profile', 'slug',\n",
       "       'source_url', 'spotlight', 'staff_pick', 'state', 'state_changed_at',\n",
       "       'static_usd_rate', 'urls', 'usd_pledged', 'usd_type', 'category_name'],\n",
       "      dtype='object')"
      ]
     },
     "execution_count": 7,
     "metadata": {},
     "output_type": "execute_result"
    }
   ],
   "source": [
    "df.columns"
   ]
  },
  {
   "cell_type": "code",
   "execution_count": 8,
   "metadata": {},
   "outputs": [
    {
     "data": {
      "text/plain": [
       "array(['Footwear', 'Playing Cards', 'Rock', 'Nonfiction',\n",
       "       'Classical Music', 'Music', 'Immersive', 'Accessories',\n",
       "       'Restaurants', 'Mixed Media', 'World Music', 'Experimental',\n",
       "       'Spaces', 'Fine Art', 'Small Batch', 'Plays', 'Sculpture',\n",
       "       'Photography', 'Fashion', 'Electronic Music', 'Software',\n",
       "       'Apparel', 'Performance Art', 'Jewelry', 'Workshops', 'Theater',\n",
       "       'Musical', 'Photobooks', 'Nature', 'Animals', 'Ready-to-wear',\n",
       "       'Places', 'Country & Folk', 'People', 'Indie Rock',\n",
       "       'Graphic Design', 'Narrative Film', 'Television', 'Wearables',\n",
       "       'Performances', 'Sound', 'Video Art', 'Gadgets', 'Printing',\n",
       "       'Anthologies', 'Art Books', 'DIY Electronics', 'Live Games',\n",
       "       '3D Printing', 'Civic Design', 'Technology', 'Hardware',\n",
       "       'Camera Equipment', 'Space Exploration', 'Web', 'Literary Spaces',\n",
       "       'Apps', 'Robots', 'Fabrication Tools', 'Flight', 'Taxidermy',\n",
       "       'Vegan', 'Pet Fashion', 'Poetry', 'Puzzles', 'Product Design',\n",
       "       'Installations', 'Events', 'Comic Books', 'Documentary', 'Faith',\n",
       "       'Shorts', 'Conceptual Art', 'Translations', 'Comics',\n",
       "       'Graphic Novels', 'Pottery', 'Tabletop Games', 'Art',\n",
       "       'Digital Art', 'Zines', 'Action', 'Public Art', 'Comedy',\n",
       "       'Painting', 'Webcomics', 'Ceramics', 'Illustration', 'Hip-Hop',\n",
       "       'Cookbooks', 'Food', 'Thrillers', 'Design', 'Movie Theaters',\n",
       "       \"Children's Books\", 'Academic', 'Video Games', 'Childrenswear',\n",
       "       'Music Videos', 'Drinks', 'Fantasy', 'Latin', 'Romance',\n",
       "       'Stationery', 'Crochet', 'Typography', \"Farmer's Markets\",\n",
       "       'Food Trucks', 'Young Adult', 'Animation', 'Woodworking', 'DIY',\n",
       "       'Crafts', 'Blues', 'Gaming Hardware', 'Glass', 'Architecture',\n",
       "       'R&B', 'Film & Video', 'Weaving', 'Candles', 'Horror', 'Festivals',\n",
       "       'Periodicals', 'Knitting', 'Kids', 'Webseries', 'Drama',\n",
       "       'Science Fiction', 'Pop', 'Jazz', 'Punk', 'Quilts', 'Dance',\n",
       "       'Fiction', 'Family', 'Photo', 'Interactive Design', 'Print',\n",
       "       'Calendars', 'Residencies', 'Textiles', 'Publishing', 'Audio',\n",
       "       'Video', 'Makerspaces', 'Literary Journals', 'Bacon',\n",
       "       'Community Gardens', 'Letterpress', 'Radio & Podcasts',\n",
       "       'Mobile Games', 'Farms', 'Journalism', 'Metal', 'Couture', 'Games',\n",
       "       'Embroidery', 'Chiptune'], dtype=object)"
      ]
     },
     "execution_count": 8,
     "metadata": {},
     "output_type": "execute_result"
    }
   ],
   "source": [
    "df.category_name.unique()"
   ]
  },
  {
   "cell_type": "markdown",
   "metadata": {},
   "source": [
    "# What is the most important feature (if any) in the success of a Kickstarter project?  "
   ]
  },
  {
   "cell_type": "markdown",
   "metadata": {},
   "source": [
    "### First data exploration"
   ]
  },
  {
   "cell_type": "code",
   "execution_count": 9,
   "metadata": {},
   "outputs": [
    {
     "data": {
      "text/html": [
       "<div>\n",
       "<style scoped>\n",
       "    .dataframe tbody tr th:only-of-type {\n",
       "        vertical-align: middle;\n",
       "    }\n",
       "\n",
       "    .dataframe tbody tr th {\n",
       "        vertical-align: top;\n",
       "    }\n",
       "\n",
       "    .dataframe thead th {\n",
       "        text-align: right;\n",
       "    }\n",
       "</style>\n",
       "<table border=\"1\" class=\"dataframe\">\n",
       "  <thead>\n",
       "    <tr style=\"text-align: right;\">\n",
       "      <th></th>\n",
       "      <th>backers_count</th>\n",
       "      <th>blurb</th>\n",
       "      <th>category</th>\n",
       "      <th>converted_pledged_amount</th>\n",
       "      <th>country</th>\n",
       "      <th>created_at</th>\n",
       "      <th>creator</th>\n",
       "      <th>currency</th>\n",
       "      <th>currency_symbol</th>\n",
       "      <th>currency_trailing_code</th>\n",
       "      <th>...</th>\n",
       "      <th>source_url</th>\n",
       "      <th>spotlight</th>\n",
       "      <th>staff_pick</th>\n",
       "      <th>state</th>\n",
       "      <th>state_changed_at</th>\n",
       "      <th>static_usd_rate</th>\n",
       "      <th>urls</th>\n",
       "      <th>usd_pledged</th>\n",
       "      <th>usd_type</th>\n",
       "      <th>category_name</th>\n",
       "    </tr>\n",
       "  </thead>\n",
       "  <tbody>\n",
       "    <tr>\n",
       "      <th>0</th>\n",
       "      <td>315</td>\n",
       "      <td>Babalus Shoes</td>\n",
       "      <td>{\"id\":266,\"name\":\"Footwear\",\"slug\":\"fashion/fo...</td>\n",
       "      <td>28645</td>\n",
       "      <td>US</td>\n",
       "      <td>1541459205</td>\n",
       "      <td>{\"id\":2094277840,\"name\":\"Lucy Conroy\",\"slug\":\"...</td>\n",
       "      <td>USD</td>\n",
       "      <td>$</td>\n",
       "      <td>True</td>\n",
       "      <td>...</td>\n",
       "      <td>https://www.kickstarter.com/discover/categorie...</td>\n",
       "      <td>False</td>\n",
       "      <td>False</td>\n",
       "      <td>live</td>\n",
       "      <td>1548223375</td>\n",
       "      <td>1.0</td>\n",
       "      <td>{\"web\":{\"project\":\"https://www.kickstarter.com...</td>\n",
       "      <td>28645.0</td>\n",
       "      <td>international</td>\n",
       "      <td>Footwear</td>\n",
       "    </tr>\n",
       "    <tr>\n",
       "      <th>1</th>\n",
       "      <td>47</td>\n",
       "      <td>A colorful Dia de los Muertos themed oracle de...</td>\n",
       "      <td>{\"id\":273,\"name\":\"Playing Cards\",\"slug\":\"games...</td>\n",
       "      <td>1950</td>\n",
       "      <td>US</td>\n",
       "      <td>1501684093</td>\n",
       "      <td>{\"id\":723886115,\"name\":\"Lisa Vollrath\",\"slug\":...</td>\n",
       "      <td>USD</td>\n",
       "      <td>$</td>\n",
       "      <td>True</td>\n",
       "      <td>...</td>\n",
       "      <td>https://www.kickstarter.com/discover/categorie...</td>\n",
       "      <td>True</td>\n",
       "      <td>False</td>\n",
       "      <td>successful</td>\n",
       "      <td>1504976459</td>\n",
       "      <td>1.0</td>\n",
       "      <td>{\"web\":{\"project\":\"https://www.kickstarter.com...</td>\n",
       "      <td>1950.0</td>\n",
       "      <td>domestic</td>\n",
       "      <td>Playing Cards</td>\n",
       "    </tr>\n",
       "  </tbody>\n",
       "</table>\n",
       "<p>2 rows × 38 columns</p>\n",
       "</div>"
      ],
      "text/plain": [
       "   backers_count                                              blurb  \\\n",
       "0            315                                      Babalus Shoes   \n",
       "1             47  A colorful Dia de los Muertos themed oracle de...   \n",
       "\n",
       "                                            category  \\\n",
       "0  {\"id\":266,\"name\":\"Footwear\",\"slug\":\"fashion/fo...   \n",
       "1  {\"id\":273,\"name\":\"Playing Cards\",\"slug\":\"games...   \n",
       "\n",
       "   converted_pledged_amount country  created_at  \\\n",
       "0                     28645      US  1541459205   \n",
       "1                      1950      US  1501684093   \n",
       "\n",
       "                                             creator currency currency_symbol  \\\n",
       "0  {\"id\":2094277840,\"name\":\"Lucy Conroy\",\"slug\":\"...      USD               $   \n",
       "1  {\"id\":723886115,\"name\":\"Lisa Vollrath\",\"slug\":...      USD               $   \n",
       "\n",
       "   currency_trailing_code  ...  \\\n",
       "0                    True  ...   \n",
       "1                    True  ...   \n",
       "\n",
       "                                          source_url  spotlight  staff_pick  \\\n",
       "0  https://www.kickstarter.com/discover/categorie...      False       False   \n",
       "1  https://www.kickstarter.com/discover/categorie...       True       False   \n",
       "\n",
       "        state  state_changed_at  static_usd_rate  \\\n",
       "0        live        1548223375              1.0   \n",
       "1  successful        1504976459              1.0   \n",
       "\n",
       "                                                urls usd_pledged  \\\n",
       "0  {\"web\":{\"project\":\"https://www.kickstarter.com...     28645.0   \n",
       "1  {\"web\":{\"project\":\"https://www.kickstarter.com...      1950.0   \n",
       "\n",
       "        usd_type  category_name  \n",
       "0  international       Footwear  \n",
       "1       domestic  Playing Cards  \n",
       "\n",
       "[2 rows x 38 columns]"
      ]
     },
     "execution_count": 9,
     "metadata": {},
     "output_type": "execute_result"
    }
   ],
   "source": [
    "df.head(2)"
   ]
  },
  {
   "cell_type": "code",
   "execution_count": 10,
   "metadata": {},
   "outputs": [
    {
     "data": {
      "text/plain": [
       "Index(['backers_count', 'blurb', 'category', 'converted_pledged_amount',\n",
       "       'country', 'created_at', 'creator', 'currency', 'currency_symbol',\n",
       "       'currency_trailing_code', 'current_currency', 'deadline',\n",
       "       'disable_communication', 'friends', 'fx_rate', 'goal', 'id',\n",
       "       'is_backing', 'is_starrable', 'is_starred', 'launched_at', 'location',\n",
       "       'name', 'permissions', 'photo', 'pledged', 'profile', 'slug',\n",
       "       'source_url', 'spotlight', 'staff_pick', 'state', 'state_changed_at',\n",
       "       'static_usd_rate', 'urls', 'usd_pledged', 'usd_type', 'category_name'],\n",
       "      dtype='object')"
      ]
     },
     "execution_count": 10,
     "metadata": {},
     "output_type": "execute_result"
    }
   ],
   "source": [
    "#Check out column names\n",
    "df.columns"
   ]
  },
  {
   "cell_type": "code",
   "execution_count": 11,
   "metadata": {},
   "outputs": [
    {
     "data": {
      "text/plain": [
       "(209222, 38)"
      ]
     },
     "execution_count": 11,
     "metadata": {},
     "output_type": "execute_result"
    }
   ],
   "source": [
    "#Check out counts of rows and columns\n",
    "df.shape"
   ]
  },
  {
   "cell_type": "code",
   "execution_count": 12,
   "metadata": {},
   "outputs": [
    {
     "data": {
      "text/plain": [
       "backers_count                    0\n",
       "blurb                            8\n",
       "category                         0\n",
       "converted_pledged_amount         0\n",
       "country                          0\n",
       "created_at                       0\n",
       "creator                          0\n",
       "currency                         0\n",
       "currency_symbol                  0\n",
       "currency_trailing_code           0\n",
       "current_currency                 0\n",
       "deadline                         0\n",
       "disable_communication            0\n",
       "friends                     208922\n",
       "fx_rate                          0\n",
       "goal                             0\n",
       "id                               0\n",
       "is_backing                  208922\n",
       "is_starrable                     0\n",
       "is_starred                  208922\n",
       "launched_at                      0\n",
       "location                       226\n",
       "name                             0\n",
       "permissions                 208922\n",
       "photo                            0\n",
       "pledged                          0\n",
       "profile                          0\n",
       "slug                             0\n",
       "source_url                       0\n",
       "spotlight                        0\n",
       "staff_pick                       0\n",
       "state                            0\n",
       "state_changed_at                 0\n",
       "static_usd_rate                  0\n",
       "urls                             0\n",
       "usd_pledged                      0\n",
       "usd_type                       480\n",
       "category_name                    0\n",
       "dtype: int64"
      ]
     },
     "execution_count": 12,
     "metadata": {},
     "output_type": "execute_result"
    }
   ],
   "source": [
    "#look at null values\n",
    "df.isnull().sum()"
   ]
  },
  {
   "cell_type": "code",
   "execution_count": 13,
   "metadata": {},
   "outputs": [],
   "source": [
    "#Delete variables with too many missings\n",
    "df.drop(columns=['friends', 'is_backing', 'is_starred', 'permissions'], inplace=True)"
   ]
  },
  {
   "cell_type": "code",
   "execution_count": null,
   "metadata": {},
   "outputs": [],
   "source": []
  },
  {
   "cell_type": "code",
   "execution_count": null,
   "metadata": {},
   "outputs": [],
   "source": []
  },
  {
   "cell_type": "code",
   "execution_count": null,
   "metadata": {},
   "outputs": [],
   "source": []
  },
  {
   "cell_type": "markdown",
   "metadata": {},
   "source": [
    "### Data transformation"
   ]
  },
  {
   "cell_type": "code",
   "execution_count": 14,
   "metadata": {},
   "outputs": [
    {
     "name": "stdout",
     "output_type": "stream",
     "text": [
      "<class 'pandas.core.frame.DataFrame'>\n",
      "RangeIndex: 209222 entries, 0 to 209221\n",
      "Data columns (total 34 columns):\n",
      " #   Column                    Non-Null Count   Dtype  \n",
      "---  ------                    --------------   -----  \n",
      " 0   backers_count             209222 non-null  int64  \n",
      " 1   blurb                     209214 non-null  object \n",
      " 2   category                  209222 non-null  object \n",
      " 3   converted_pledged_amount  209222 non-null  int64  \n",
      " 4   country                   209222 non-null  object \n",
      " 5   created_at                209222 non-null  int64  \n",
      " 6   creator                   209222 non-null  object \n",
      " 7   currency                  209222 non-null  object \n",
      " 8   currency_symbol           209222 non-null  object \n",
      " 9   currency_trailing_code    209222 non-null  bool   \n",
      " 10  current_currency          209222 non-null  object \n",
      " 11  deadline                  209222 non-null  int64  \n",
      " 12  disable_communication     209222 non-null  bool   \n",
      " 13  fx_rate                   209222 non-null  float64\n",
      " 14  goal                      209222 non-null  float64\n",
      " 15  id                        209222 non-null  int64  \n",
      " 16  is_starrable              209222 non-null  bool   \n",
      " 17  launched_at               209222 non-null  int64  \n",
      " 18  location                  208996 non-null  object \n",
      " 19  name                      209222 non-null  object \n",
      " 20  photo                     209222 non-null  object \n",
      " 21  pledged                   209222 non-null  float64\n",
      " 22  profile                   209222 non-null  object \n",
      " 23  slug                      209222 non-null  object \n",
      " 24  source_url                209222 non-null  object \n",
      " 25  spotlight                 209222 non-null  bool   \n",
      " 26  staff_pick                209222 non-null  bool   \n",
      " 27  state                     209222 non-null  object \n",
      " 28  state_changed_at          209222 non-null  int64  \n",
      " 29  static_usd_rate           209222 non-null  float64\n",
      " 30  urls                      209222 non-null  object \n",
      " 31  usd_pledged               209222 non-null  float64\n",
      " 32  usd_type                  208742 non-null  object \n",
      " 33  category_name             209222 non-null  object \n",
      "dtypes: bool(5), float64(5), int64(7), object(17)\n",
      "memory usage: 47.3+ MB\n"
     ]
    }
   ],
   "source": [
    "#Check out variable types\n",
    "df.info()"
   ]
  },
  {
   "cell_type": "code",
   "execution_count": 15,
   "metadata": {},
   "outputs": [
    {
     "name": "stdout",
     "output_type": "stream",
     "text": [
      "0    315\n",
      "1     47\n",
      "2    271\n",
      "Name: backers_count, dtype: int64\n",
      "0                                        Babalus Shoes\n",
      "1    A colorful Dia de los Muertos themed oracle de...\n",
      "2    Electra's long awaited, eclectic Debut Pop/Roc...\n",
      "Name: blurb, dtype: object\n",
      "0    {\"id\":266,\"name\":\"Footwear\",\"slug\":\"fashion/fo...\n",
      "1    {\"id\":273,\"name\":\"Playing Cards\",\"slug\":\"games...\n",
      "2    {\"id\":43,\"name\":\"Rock\",\"slug\":\"music/rock\",\"po...\n",
      "Name: category, dtype: object\n",
      "0    28645\n",
      "1     1950\n",
      "2    22404\n",
      "Name: converted_pledged_amount, dtype: int64\n",
      "0    US\n",
      "1    US\n",
      "2    US\n",
      "Name: country, dtype: object\n",
      "0    1541459205\n",
      "1    1501684093\n",
      "2    1348987533\n",
      "Name: created_at, dtype: int64\n",
      "0    {\"id\":2094277840,\"name\":\"Lucy Conroy\",\"slug\":\"...\n",
      "1    {\"id\":723886115,\"name\":\"Lisa Vollrath\",\"slug\":...\n",
      "2    {\"id\":323849677,\"name\":\"Electra\",\"is_registere...\n",
      "Name: creator, dtype: object\n",
      "0    USD\n",
      "1    USD\n",
      "2    USD\n",
      "Name: currency, dtype: object\n",
      "0    $\n",
      "1    $\n",
      "2    $\n",
      "Name: currency_symbol, dtype: object\n",
      "0    True\n",
      "1    True\n",
      "2    True\n",
      "Name: currency_trailing_code, dtype: bool\n",
      "0    USD\n",
      "1    USD\n",
      "2    USD\n",
      "Name: current_currency, dtype: object\n",
      "0    1552539775\n",
      "1    1504976459\n",
      "2    1371013395\n",
      "Name: deadline, dtype: int64\n",
      "0    False\n",
      "1    False\n",
      "2    False\n",
      "Name: disable_communication, dtype: bool\n",
      "0    1.0\n",
      "1    1.0\n",
      "2    1.0\n",
      "Name: fx_rate, dtype: float64\n",
      "0    28000.0\n",
      "1     1000.0\n",
      "2    15000.0\n",
      "Name: goal, dtype: float64\n",
      "0    2108505034\n",
      "1     928751314\n",
      "2     928014092\n",
      "Name: id, dtype: int64\n",
      "0    False\n",
      "1    False\n",
      "2    False\n",
      "Name: is_starrable, dtype: bool\n",
      "0    1548223375\n",
      "1    1502384459\n",
      "2    1368421395\n",
      "Name: launched_at, dtype: int64\n",
      "0    {\"id\":2462429,\"name\":\"Novato\",\"slug\":\"novato-c...\n",
      "1    {\"id\":2400549,\"name\":\"Euless\",\"slug\":\"euless-t...\n",
      "2    {\"id\":2423474,\"name\":\"Hollywood\",\"slug\":\"holly...\n",
      "Name: location, dtype: object\n",
      "0                             Babalus Children's Shoes\n",
      "1                              The Ofrenda Oracle Deck\n",
      "2    Record Electra's Debut Album (Pop, Rock, Class...\n",
      "Name: name, dtype: object\n",
      "0    {\"key\":\"assets/023/667/205/a565fde5382d6b53276...\n",
      "1    {\"key\":\"assets/017/766/989/dd9f18c773a8546d996...\n",
      "2    {\"key\":\"assets/011/433/681/489fd66f7861fefd8c8...\n",
      "Name: photo, dtype: object\n",
      "0    28645.0\n",
      "1     1950.0\n",
      "2    22404.0\n",
      "Name: pledged, dtype: float64\n",
      "0    {\"id\":3508024,\"project_id\":3508024,\"state\":\"in...\n",
      "1    {\"id\":3094785,\"project_id\":3094785,\"state\":\"ac...\n",
      "2    {\"id\":359847,\"project_id\":359847,\"state\":\"inac...\n",
      "Name: profile, dtype: object\n",
      "0                           babalus-childrens-shoes\n",
      "1                           the-ofrenda-oracle-deck\n",
      "2    record-electras-debut-album-pop-rock-classical\n",
      "Name: slug, dtype: object\n",
      "0    https://www.kickstarter.com/discover/categorie...\n",
      "1    https://www.kickstarter.com/discover/categorie...\n",
      "2    https://www.kickstarter.com/discover/categorie...\n",
      "Name: source_url, dtype: object\n",
      "0    False\n",
      "1     True\n",
      "2     True\n",
      "Name: spotlight, dtype: bool\n",
      "0    False\n",
      "1    False\n",
      "2    False\n",
      "Name: staff_pick, dtype: bool\n",
      "0          live\n",
      "1    successful\n",
      "2    successful\n",
      "Name: state, dtype: object\n",
      "0    1548223375\n",
      "1    1504976459\n",
      "2    1371013395\n",
      "Name: state_changed_at, dtype: int64\n",
      "0    1.0\n",
      "1    1.0\n",
      "2    1.0\n",
      "Name: static_usd_rate, dtype: float64\n",
      "0    {\"web\":{\"project\":\"https://www.kickstarter.com...\n",
      "1    {\"web\":{\"project\":\"https://www.kickstarter.com...\n",
      "2    {\"web\":{\"project\":\"https://www.kickstarter.com...\n",
      "Name: urls, dtype: object\n",
      "0    28645.0\n",
      "1     1950.0\n",
      "2    22404.0\n",
      "Name: usd_pledged, dtype: float64\n",
      "0    international\n",
      "1         domestic\n",
      "2    international\n",
      "Name: usd_type, dtype: object\n",
      "0         Footwear\n",
      "1    Playing Cards\n",
      "2             Rock\n",
      "Name: category_name, dtype: object\n"
     ]
    }
   ],
   "source": [
    "#Look at variable types\n",
    "print(df.backers_count.head(3))\n",
    "print(df.blurb.head(3))\n",
    "print(df.category.head(3)) #json string - to be transformed\n",
    "print(df.converted_pledged_amount.head(3))\n",
    "print(df.country.head(3)) #dtype: object - get dummy for each country\n",
    "print(df.created_at.head(3))\n",
    "print(df.creator.head(3)) #json string - NOT to be transformed. Variable contains Kickstarter's name. Variable to be dropped\n",
    "print(df.currency.head(3)) #dtype: object - get dummy for each currency\n",
    "print(df.currency_symbol.head(3)) #dtype: object - Symbol of the currency. Variable to be dropped. \n",
    "print(df.currency_trailing_code.head(3)) #dtype: bool - Variable to be dropped. \n",
    "print(df.current_currency.head(3)) #dtype: object - Variable to be dropped. \n",
    "print(df.deadline.head(3)) #dtype: datetime64[ns] - To be converted to more readable format of date and time. \n",
    "print(df.disable_communication.head(3)) #dtype: bool - Variable to be dropped. \n",
    "print(df.fx_rate.head(3))\n",
    "print(df.goal.head(3))\n",
    "print(df.id.head(3))\n",
    "print(df.is_starrable.head(3)) #dtype: bool - Variable to be dropped. \n",
    "print(df.launched_at.head(3)) #dtype: datetime64[ns] - To be converted to more readable format of date and time. \n",
    "print(df.location.head(3)) #dtype: object (json string) - To be converted to panda df\n",
    "print(df.name.head(3)) #dtype: object - Exact name of project. \n",
    "print(df.photo.head(3)) #dtype: object (json string) - Variable to be dropped as it is just a photo. \n",
    "print(df.pledged.head(3))\n",
    "print(df.profile.head(3)) #dtype: object (json string) - To be converted? \n",
    "print(df.slug.head(3)) #dtype: object (json string) - another description of the project with dashed and no spaces\n",
    "print(df.source_url.head(3)) #dtype: object - URL of project. Variable to be dropped.\n",
    "print(df.spotlight.head(3)) #dtype: bool - If porject is spotlighted. Variable to be dropped.\n",
    "print(df.staff_pick.head(3)) #dtype: bool - If staff of Kickstarter likes the project. Variable to be dropped.\n",
    "print(df.state.head(3)) #dtype: object - If the project is successful, cancelled etc. - get dummy for each state\n",
    "print(df.state_changed_at.head(3)) #dtype: int64 - Day the state changed. To be converted to more readable format of date and time.\n",
    "print(df.static_usd_rate.head(3)) #dtype: float64 - To be dropped? Dont understand variable definition. \n",
    "print(df.urls.head(3)) #dtype: object (json string) - To be dropped as it just contains URL? \n",
    "print(df.usd_pledged.head(3))\n",
    "print(df.usd_type.head(3)) #dtype: object - International USD, USD etc. - get dummy for each USD type\n",
    "print(df.category_name.head(3)) #dtype: object - Project genre (art, tech etc.) - get dummy for each project genre"
   ]
  },
  {
   "cell_type": "code",
   "execution_count": 16,
   "metadata": {},
   "outputs": [
    {
     "name": "stdout",
     "output_type": "stream",
     "text": [
      "0    {\"id\":266,\"name\":\"Footwear\",\"slug\":\"fashion/fo...\n",
      "1    {\"id\":273,\"name\":\"Playing Cards\",\"slug\":\"games...\n",
      "2    {\"id\":43,\"name\":\"Rock\",\"slug\":\"music/rock\",\"po...\n",
      "Name: category, dtype: object\n",
      "0    {\"id\":2094277840,\"name\":\"Lucy Conroy\",\"slug\":\"...\n",
      "1    {\"id\":723886115,\"name\":\"Lisa Vollrath\",\"slug\":...\n",
      "2    {\"id\":323849677,\"name\":\"Electra\",\"is_registere...\n",
      "Name: creator, dtype: object\n",
      "0    {\"id\":2462429,\"name\":\"Novato\",\"slug\":\"novato-c...\n",
      "1    {\"id\":2400549,\"name\":\"Euless\",\"slug\":\"euless-t...\n",
      "2    {\"id\":2423474,\"name\":\"Hollywood\",\"slug\":\"holly...\n",
      "Name: location, dtype: object\n",
      "0    {\"key\":\"assets/023/667/205/a565fde5382d6b53276...\n",
      "1    {\"key\":\"assets/017/766/989/dd9f18c773a8546d996...\n",
      "2    {\"key\":\"assets/011/433/681/489fd66f7861fefd8c8...\n",
      "Name: photo, dtype: object\n",
      "0    {\"id\":3508024,\"project_id\":3508024,\"state\":\"in...\n",
      "1    {\"id\":3094785,\"project_id\":3094785,\"state\":\"ac...\n",
      "2    {\"id\":359847,\"project_id\":359847,\"state\":\"inac...\n",
      "Name: profile, dtype: object\n",
      "0                           babalus-childrens-shoes\n",
      "1                           the-ofrenda-oracle-deck\n",
      "2    record-electras-debut-album-pop-rock-classical\n",
      "Name: slug, dtype: object\n",
      "0    {\"web\":{\"project\":\"https://www.kickstarter.com...\n",
      "1    {\"web\":{\"project\":\"https://www.kickstarter.com...\n",
      "2    {\"web\":{\"project\":\"https://www.kickstarter.com...\n",
      "Name: urls, dtype: object\n",
      "0    US\n",
      "1    US\n",
      "2    US\n",
      "Name: country, dtype: object\n",
      "0    USD\n",
      "1    USD\n",
      "2    USD\n",
      "Name: currency, dtype: object\n",
      "0    $\n",
      "1    $\n",
      "2    $\n",
      "Name: currency_symbol, dtype: object\n",
      "0    True\n",
      "1    True\n",
      "2    True\n",
      "Name: currency_trailing_code, dtype: bool\n",
      "0    USD\n",
      "1    USD\n",
      "2    USD\n",
      "Name: current_currency, dtype: object\n",
      "0    1552539775\n",
      "1    1504976459\n",
      "2    1371013395\n",
      "Name: deadline, dtype: int64\n",
      "0    False\n",
      "1    False\n",
      "2    False\n",
      "Name: disable_communication, dtype: bool\n",
      "0    1.0\n",
      "1    1.0\n",
      "2    1.0\n",
      "Name: fx_rate, dtype: float64\n",
      "0    28000.0\n",
      "1     1000.0\n",
      "2    15000.0\n",
      "Name: goal, dtype: float64\n",
      "0    2108505034\n",
      "1     928751314\n",
      "2     928014092\n",
      "Name: id, dtype: int64\n",
      "0    False\n",
      "1    False\n",
      "2    False\n",
      "Name: is_starrable, dtype: bool\n",
      "0    1548223375\n",
      "1    1502384459\n",
      "2    1368421395\n",
      "Name: launched_at, dtype: int64\n",
      "0                             Babalus Children's Shoes\n",
      "1                              The Ofrenda Oracle Deck\n",
      "2    Record Electra's Debut Album (Pop, Rock, Class...\n",
      "Name: name, dtype: object\n",
      "0    28645.0\n",
      "1     1950.0\n",
      "2    22404.0\n",
      "Name: pledged, dtype: float64\n",
      "0    https://www.kickstarter.com/discover/categorie...\n",
      "1    https://www.kickstarter.com/discover/categorie...\n",
      "2    https://www.kickstarter.com/discover/categorie...\n",
      "Name: source_url, dtype: object\n",
      "0    False\n",
      "1     True\n",
      "2     True\n",
      "Name: spotlight, dtype: bool\n",
      "0    False\n",
      "1    False\n",
      "2    False\n",
      "Name: staff_pick, dtype: bool\n",
      "0          live\n",
      "1    successful\n",
      "2    successful\n",
      "Name: state, dtype: object\n",
      "0    1548223375\n",
      "1    1504976459\n",
      "2    1371013395\n",
      "Name: state_changed_at, dtype: int64\n",
      "0    1.0\n",
      "1    1.0\n",
      "2    1.0\n",
      "Name: static_usd_rate, dtype: float64\n",
      "0    28645.0\n",
      "1     1950.0\n",
      "2    22404.0\n",
      "Name: usd_pledged, dtype: float64\n",
      "0    international\n",
      "1         domestic\n",
      "2    international\n",
      "Name: usd_type, dtype: object\n",
      "0         Footwear\n",
      "1    Playing Cards\n",
      "2             Rock\n",
      "Name: category_name, dtype: object\n"
     ]
    }
   ],
   "source": [
    "#Json strings\n",
    "print(df.category.head(3)) #json string - to be transformed\n",
    "\n",
    "#Drop json strings\n",
    "print(df.creator.head(3)) #json string - NOT to be transformed. Variable contains Kickstarter's name. Variable to be dropped\n",
    "print(df.location.head(3)) #dtype: object (json string) - To be converted to panda df\n",
    "print(df.photo.head(3)) #dtype: object (json string) - Variable to be dropped as it is just a photo. \n",
    "print(df.profile.head(3)) #dtype: object (json string) - To be converted? \n",
    "print(df.slug.head(3)) #dtype: object (json string) - another description of the project with dashed and no spaces\n",
    "print(df.urls.head(3)) #dtype: object (json string) - To be dropped as it just contains URL? \n",
    "\n",
    "#Get dummies\n",
    "print(df.country.head(3)) #dtype: object - get dummy for each country\n",
    "print(df.currency.head(3)) #dtype: object - get dummy for each currency\n",
    "print(df.state.head(3)) #dtype: object - If the project is successful, cancelled etc. - get dummy for each state\n",
    "print(df.usd_type.head(3)) #dtype: object - International USD, USD etc. - get dummy for each USD type\n",
    "print(df.category_name.head(3)) #dtype: object - Project genre (art, tech etc.) - get dummy for each project genre\n",
    "\n",
    "#Convert from unix time stamp to more readable time format\n",
    "print(df.deadline.head(3)) #dtype: datetime64[ns] - To be converted to more readable format of date and time. \n",
    "print(df.launched_at.head(3)) #dtype: datetime64[ns] - To be converted to more readable format of date and time. \n",
    "print(df.state_changed_at.head(3)) #dtype: int64 - Day the state changed. To be converted to more readable format of date and time.\n",
    "\n",
    "#Drop variables\n",
    "print(df.currency_symbol.head(3)) #dtype: object - Symbol of the currency. Variable to be dropped. \n",
    "print(df.currency_trailing_code.head(3)) #dtype: bool - Variable to be dropped. \n",
    "print(df.current_currency.head(3)) #dtype: object - Variable to be dropped. \n",
    "print(df.disable_communication.head(3)) #dtype: bool - Variable to be dropped. \n",
    "print(df.is_starrable.head(3)) #dtype: bool - Variable to be dropped. \n",
    "print(df.source_url.head(3)) #dtype: object - URL of project. Variable to be dropped.\n",
    "print(df.spotlight.head(3)) #dtype: bool - If porject is spotlighted. Variable to be dropped.\n",
    "print(df.staff_pick.head(3)) #dtype: bool - If staff of Kickstarter likes the project. Variable to be dropped.\n",
    "print(df.static_usd_rate.head(3)) #dtype: float64 - To be dropped? Dont understand variable definition. "
   ]
  },
  {
   "cell_type": "code",
   "execution_count": null,
   "metadata": {},
   "outputs": [],
   "source": []
  },
  {
   "cell_type": "code",
   "execution_count": null,
   "metadata": {},
   "outputs": [],
   "source": []
  },
  {
   "cell_type": "code",
   "execution_count": 22,
   "metadata": {},
   "outputs": [
    {
     "data": {
      "text/plain": [
       "array(['USD', 'GBP', 'EUR', 'AUD', 'NZD', 'NOK', 'CAD', 'SGD', 'MXN',\n",
       "       'SEK', 'HKD', 'JPY', 'DKK', 'CHF'], dtype=object)"
      ]
     },
     "execution_count": 22,
     "metadata": {},
     "output_type": "execute_result"
    }
   ],
   "source": [
    "df.currency.unique()\n"
   ]
  },
  {
   "cell_type": "code",
   "execution_count": 23,
   "metadata": {},
   "outputs": [
    {
     "name": "stdout",
     "output_type": "stream",
     "text": [
      "0    1.0\n",
      "1    1.0\n",
      "2    1.0\n",
      "Name: fx_rate, dtype: float64\n"
     ]
    }
   ],
   "source": [
    "print(df.fx_rate.head(3))"
   ]
  },
  {
   "cell_type": "code",
   "execution_count": 31,
   "metadata": {},
   "outputs": [
    {
     "data": {
      "text/plain": [
       "count    2.092220e+05\n",
       "mean     4.917604e+04\n",
       "std      1.179427e+06\n",
       "min      1.000000e-02\n",
       "25%      1.500000e+03\n",
       "50%      5.000000e+03\n",
       "75%      1.500000e+04\n",
       "max      1.000000e+08\n",
       "Name: goal, dtype: float64"
      ]
     },
     "execution_count": 31,
     "metadata": {},
     "output_type": "execute_result"
    }
   ],
   "source": [
    "df.goal.describe()\n"
   ]
  },
  {
   "cell_type": "code",
   "execution_count": 30,
   "metadata": {},
   "outputs": [
    {
     "data": {
      "text/plain": [
       "<AxesSubplot:>"
      ]
     },
     "execution_count": 30,
     "metadata": {},
     "output_type": "execute_result"
    },
    {
     "data": {
      "image/png": "[encoded data removed]",
      "text/plain": [
       "<Figure size 432x288 with 1 Axes>"
      ]
     },
     "metadata": {
      "needs_background": "light"
     },
     "output_type": "display_data"
    }
   ],
   "source": [
    "df.goal.hist()"
   ]
  },
  {
   "cell_type": "code",
   "execution_count": null,
   "metadata": {},
   "outputs": [],
   "source": []
  },
  {
   "cell_type": "code",
   "execution_count": null,
   "metadata": {},
   "outputs": [],
   "source": []
  },
  {
   "cell_type": "code",
   "execution_count": 17,
   "metadata": {},
   "outputs": [
    {
     "data": {
      "text/plain": [
       "0    1552539775\n",
       "1    1504976459\n",
       "2    1371013395\n",
       "3    1489425776\n",
       "4    1357763527\n",
       "Name: deadline, dtype: int64"
      ]
     },
     "execution_count": 17,
     "metadata": {},
     "output_type": "execute_result"
    }
   ],
   "source": [
    "df.deadline.head()"
   ]
  },
  {
   "cell_type": "code",
   "execution_count": 19,
   "metadata": {},
   "outputs": [
    {
     "data": {
      "text/plain": [
       "0        2019-03-14 05:02:55\n",
       "1        2017-09-09 17:00:59\n",
       "2        2013-06-12 05:03:15\n",
       "3        2017-03-13 17:22:56\n",
       "4        2013-01-09 20:32:07\n",
       "                 ...        \n",
       "209217   2018-12-12 04:45:00\n",
       "209218   2017-06-19 22:00:00\n",
       "209219   2012-09-17 03:59:00\n",
       "209220   2015-04-20 13:26:15\n",
       "209221   2010-02-22 04:59:00\n",
       "Name: deadline, Length: 209222, dtype: datetime64[ns]"
      ]
     },
     "execution_count": 19,
     "metadata": {},
     "output_type": "execute_result"
    }
   ],
   "source": [
    "#Convert 'deadline' (unix time stamp) to common datetime format\n",
    "#df['deadline'] = pd.to_datetime(df['deadline'])\n",
    "pd.to_datetime(df['deadline'], unit='s')\n",
    "df['deadline'].sort_values().head()"
   ]
  },
  {
   "cell_type": "code",
   "execution_count": null,
   "metadata": {},
   "outputs": [],
   "source": [
    "df.launched_at.head()"
   ]
  },
  {
   "cell_type": "code",
   "execution_count": null,
   "metadata": {},
   "outputs": [],
   "source": [
    "#Convert 'launched_at' to common datetime format\n",
    "df.launched_at = pd.to_datetime(df.launched_at)"
   ]
  },
  {
   "cell_type": "code",
   "execution_count": null,
   "metadata": {},
   "outputs": [],
   "source": []
  },
  {
   "cell_type": "code",
   "execution_count": null,
   "metadata": {},
   "outputs": [],
   "source": []
  },
  {
   "cell_type": "code",
   "execution_count": null,
   "metadata": {},
   "outputs": [],
   "source": []
  }
 ],
 "metadata": {
  "kernelspec": {
   "display_name": "Python [conda env:nf_2nd_project] *",
   "language": "python",
   "name": "conda-env-nf_2nd_project-py"
  },
  "language_info": {
   "codemirror_mode": {
    "name": "ipython",
    "version": 3
   },
   "file_extension": ".py",
   "mimetype": "text/x-python",
   "name": "python",
   "nbconvert_exporter": "python",
   "pygments_lexer": "ipython3",
   "version": "3.8.5"
  }
 },
 "nbformat": 4,
 "nbformat_minor": 4
}
