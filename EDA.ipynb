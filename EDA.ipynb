{
 "cells": [
  {
   "cell_type": "code",
   "execution_count": 1,
   "metadata": {},
   "outputs": [],
   "source": [
    "# import packages \n",
    "import pandas as pd\n",
    "import numpy as np\n",
    "import glob\n",
    "import json\n",
    "\n",
    "# Import visualisation libraries\n",
    "import seaborn as sns\n",
    "import matplotlib.pyplot as plt\n",
    "\n",
    "# Pretty display for notebooks\n",
    "%matplotlib inline"
   ]
  },
  {
   "cell_type": "code",
   "execution_count": 2,
   "metadata": {},
   "outputs": [],
   "source": [
    "def load_kickstarter_data(datapath):\n",
    "    '''datapath = location of csv files to be loaded'''\n",
    "    # List with the names of all the csv files in the path\n",
    "    csv_files = glob.glob(datapath+'/*.csv')\n",
    "\n",
    "    print(f'Total files: {len(csv_files)}')\n",
    "\n",
    "    # Loop through the files\n",
    "    for file_idx, csv_file in enumerate(csv_files): \n",
    "        # create dataframe from 1st csv       \n",
    "        if file_idx == 0:\n",
    "            df_ks = pd.read_csv(csv_file)\n",
    "            print(f'File number {file_idx + 1} added to dataframe')\n",
    "        else:\n",
    "            # create dataframe from idx csv\n",
    "            df = pd.read_csv(csv_file)\n",
    "            # check files are all in same\n",
    "            if  np.all(df.columns == df_ks.columns) == False:\n",
    "                print(f'Column format of {csv_file} does not match {csv_files[0]}. Please check and try again')\n",
    "                return\n",
    "            else:\n",
    "                # append to initial dataframe                   \n",
    "                df_ks = pd.concat([df_ks, df], axis=0, ignore_index=True)       \n",
    "                print(f'File number {file_idx + 1} added to dataframe')\n",
    "    print('File import done')\n",
    "    return df_ks"
   ]
  },
  {
   "cell_type": "code",
   "execution_count": 3,
   "metadata": {},
   "outputs": [
    {
     "name": "stdout",
     "output_type": "stream",
     "text": [
      "Total files: 56\n",
      "File number 1 added to dataframe\n",
      "File number 2 added to dataframe\n",
      "File number 3 added to dataframe\n",
      "File number 4 added to dataframe\n",
      "File number 5 added to dataframe\n",
      "File number 6 added to dataframe\n",
      "File number 7 added to dataframe\n",
      "File number 8 added to dataframe\n",
      "File number 9 added to dataframe\n",
      "File number 10 added to dataframe\n",
      "File number 11 added to dataframe\n",
      "File number 12 added to dataframe\n",
      "File number 13 added to dataframe\n",
      "File number 14 added to dataframe\n",
      "File number 15 added to dataframe\n",
      "File number 16 added to dataframe\n",
      "File number 17 added to dataframe\n",
      "File number 18 added to dataframe\n",
      "File number 19 added to dataframe\n",
      "File number 20 added to dataframe\n",
      "File number 21 added to dataframe\n",
      "File number 22 added to dataframe\n",
      "File number 23 added to dataframe\n",
      "File number 24 added to dataframe\n",
      "File number 25 added to dataframe\n",
      "File number 26 added to dataframe\n",
      "File number 27 added to dataframe\n",
      "File number 28 added to dataframe\n",
      "File number 29 added to dataframe\n",
      "File number 30 added to dataframe\n",
      "File number 31 added to dataframe\n",
      "File number 32 added to dataframe\n",
      "File number 33 added to dataframe\n",
      "File number 34 added to dataframe\n",
      "File number 35 added to dataframe\n",
      "File number 36 added to dataframe\n",
      "File number 37 added to dataframe\n",
      "File number 38 added to dataframe\n",
      "File number 39 added to dataframe\n",
      "File number 40 added to dataframe\n",
      "File number 41 added to dataframe\n",
      "File number 42 added to dataframe\n",
      "File number 43 added to dataframe\n",
      "File number 44 added to dataframe\n",
      "File number 45 added to dataframe\n",
      "File number 46 added to dataframe\n",
      "File number 47 added to dataframe\n",
      "File number 48 added to dataframe\n",
      "File number 49 added to dataframe\n",
      "File number 50 added to dataframe\n",
      "File number 51 added to dataframe\n",
      "File number 52 added to dataframe\n",
      "File number 53 added to dataframe\n",
      "File number 54 added to dataframe\n",
      "File number 55 added to dataframe\n",
      "File number 56 added to dataframe\n",
      "File import done\n"
     ]
    }
   ],
   "source": [
    "df = load_kickstarter_data('kickstarter/data')"
   ]
  },
  {
   "cell_type": "markdown",
   "metadata": {},
   "source": []
  },
  {
   "cell_type": "code",
   "execution_count": 4,
   "metadata": {},
   "outputs": [
    {
     "data": {
      "text/plain": [
       "Index(['backers_count', 'blurb', 'category', 'converted_pledged_amount',\n",
       "       'country', 'created_at', 'creator', 'currency', 'currency_symbol',\n",
       "       'currency_trailing_code', 'current_currency', 'deadline',\n",
       "       'disable_communication', 'friends', 'fx_rate', 'goal', 'id',\n",
       "       'is_backing', 'is_starrable', 'is_starred', 'launched_at', 'location',\n",
       "       'name', 'permissions', 'photo', 'pledged', 'profile', 'slug',\n",
       "       'source_url', 'spotlight', 'staff_pick', 'state', 'state_changed_at',\n",
       "       'static_usd_rate', 'urls', 'usd_pledged', 'usd_type'],\n",
       "      dtype='object')"
      ]
     },
     "execution_count": 4,
     "metadata": {},
     "output_type": "execute_result"
    }
   ],
   "source": [
    "df.columns"
   ]
  },
  {
   "cell_type": "code",
   "execution_count": 5,
   "metadata": {},
   "outputs": [],
   "source": [
    "def extract_json_data(data):\n",
    "    ''' This function extracts specific sub fields from json files embedded in columns of a dataframe\n",
    "        data: dataframe containing column with json data'''\n",
    "    data['category_name'] = pd.DataFrame([json.loads(data[\"category\"][i])['name'] for i in range(data.shape[0])])\n",
    "    return data\n",
    "#df2 = extract_json_data(df)"
   ]
  },
  {
   "cell_type": "code",
   "execution_count": 6,
   "metadata": {},
   "outputs": [],
   "source": [
    "df = extract_json_data(df)\n"
   ]
  },
  {
   "cell_type": "code",
   "execution_count": 7,
   "metadata": {},
   "outputs": [
    {
     "data": {
      "text/plain": [
       "Index(['backers_count', 'blurb', 'category', 'converted_pledged_amount',\n",
       "       'country', 'created_at', 'creator', 'currency', 'currency_symbol',\n",
       "       'currency_trailing_code', 'current_currency', 'deadline',\n",
       "       'disable_communication', 'friends', 'fx_rate', 'goal', 'id',\n",
       "       'is_backing', 'is_starrable', 'is_starred', 'launched_at', 'location',\n",
       "       'name', 'permissions', 'photo', 'pledged', 'profile', 'slug',\n",
       "       'source_url', 'spotlight', 'staff_pick', 'state', 'state_changed_at',\n",
       "       'static_usd_rate', 'urls', 'usd_pledged', 'usd_type', 'category_name'],\n",
       "      dtype='object')"
      ]
     },
     "execution_count": 7,
     "metadata": {},
     "output_type": "execute_result"
    }
   ],
   "source": [
    "df.columns"
   ]
  },
  {
   "cell_type": "code",
   "execution_count": 8,
   "metadata": {},
   "outputs": [
    {
     "data": {
      "text/plain": [
       "array(['Footwear', 'Playing Cards', 'Rock', 'Nonfiction',\n",
       "       'Classical Music', 'Music', 'Immersive', 'Accessories',\n",
       "       'Restaurants', 'Mixed Media', 'World Music', 'Experimental',\n",
       "       'Spaces', 'Fine Art', 'Small Batch', 'Plays', 'Sculpture',\n",
       "       'Photography', 'Fashion', 'Electronic Music', 'Software',\n",
       "       'Apparel', 'Performance Art', 'Jewelry', 'Workshops', 'Theater',\n",
       "       'Musical', 'Photobooks', 'Nature', 'Animals', 'Ready-to-wear',\n",
       "       'Places', 'Country & Folk', 'People', 'Indie Rock',\n",
       "       'Graphic Design', 'Narrative Film', 'Television', 'Wearables',\n",
       "       'Performances', 'Sound', 'Video Art', 'Gadgets', 'Printing',\n",
       "       'Anthologies', 'Art Books', 'DIY Electronics', 'Live Games',\n",
       "       '3D Printing', 'Civic Design', 'Technology', 'Hardware',\n",
       "       'Camera Equipment', 'Space Exploration', 'Web', 'Literary Spaces',\n",
       "       'Apps', 'Robots', 'Fabrication Tools', 'Flight', 'Taxidermy',\n",
       "       'Vegan', 'Pet Fashion', 'Poetry', 'Puzzles', 'Product Design',\n",
       "       'Installations', 'Events', 'Comic Books', 'Documentary', 'Faith',\n",
       "       'Shorts', 'Conceptual Art', 'Translations', 'Comics',\n",
       "       'Graphic Novels', 'Pottery', 'Tabletop Games', 'Art',\n",
       "       'Digital Art', 'Zines', 'Action', 'Public Art', 'Comedy',\n",
       "       'Painting', 'Webcomics', 'Ceramics', 'Illustration', 'Hip-Hop',\n",
       "       'Cookbooks', 'Food', 'Thrillers', 'Design', 'Movie Theaters',\n",
       "       \"Children's Books\", 'Academic', 'Video Games', 'Childrenswear',\n",
       "       'Music Videos', 'Drinks', 'Fantasy', 'Latin', 'Romance',\n",
       "       'Stationery', 'Crochet', 'Typography', \"Farmer's Markets\",\n",
       "       'Food Trucks', 'Young Adult', 'Animation', 'Woodworking', 'DIY',\n",
       "       'Crafts', 'Blues', 'Gaming Hardware', 'Glass', 'Architecture',\n",
       "       'R&B', 'Film & Video', 'Weaving', 'Candles', 'Horror', 'Festivals',\n",
       "       'Periodicals', 'Knitting', 'Kids', 'Webseries', 'Drama',\n",
       "       'Science Fiction', 'Pop', 'Jazz', 'Punk', 'Quilts', 'Dance',\n",
       "       'Fiction', 'Family', 'Photo', 'Interactive Design', 'Print',\n",
       "       'Calendars', 'Residencies', 'Textiles', 'Publishing', 'Audio',\n",
       "       'Video', 'Makerspaces', 'Literary Journals', 'Bacon',\n",
       "       'Community Gardens', 'Letterpress', 'Radio & Podcasts',\n",
       "       'Mobile Games', 'Farms', 'Journalism', 'Metal', 'Couture', 'Games',\n",
       "       'Embroidery', 'Chiptune'], dtype=object)"
      ]
     },
     "execution_count": 8,
     "metadata": {},
     "output_type": "execute_result"
    }
   ],
   "source": [
    "df.category_name.unique()"
   ]
  },
  {
   "cell_type": "markdown",
   "metadata": {},
   "source": [
    "# What is the most important feature (if any) in the success of a Kickstarter project?  "
   ]
  },
  {
   "cell_type": "markdown",
   "metadata": {},
   "source": [
    "### First data exploration"
   ]
  },
  {
   "cell_type": "code",
   "execution_count": 9,
   "metadata": {},
   "outputs": [
    {
     "data": {
      "text/html": [
       "<div>\n",
       "<style scoped>\n",
       "    .dataframe tbody tr th:only-of-type {\n",
       "        vertical-align: middle;\n",
       "    }\n",
       "\n",
       "    .dataframe tbody tr th {\n",
       "        vertical-align: top;\n",
       "    }\n",
       "\n",
       "    .dataframe thead th {\n",
       "        text-align: right;\n",
       "    }\n",
       "</style>\n",
       "<table border=\"1\" class=\"dataframe\">\n",
       "  <thead>\n",
       "    <tr style=\"text-align: right;\">\n",
       "      <th></th>\n",
       "      <th>backers_count</th>\n",
       "      <th>blurb</th>\n",
       "      <th>category</th>\n",
       "      <th>converted_pledged_amount</th>\n",
       "      <th>country</th>\n",
       "      <th>created_at</th>\n",
       "      <th>creator</th>\n",
       "      <th>currency</th>\n",
       "      <th>currency_symbol</th>\n",
       "      <th>currency_trailing_code</th>\n",
       "      <th>...</th>\n",
       "      <th>source_url</th>\n",
       "      <th>spotlight</th>\n",
       "      <th>staff_pick</th>\n",
       "      <th>state</th>\n",
       "      <th>state_changed_at</th>\n",
       "      <th>static_usd_rate</th>\n",
       "      <th>urls</th>\n",
       "      <th>usd_pledged</th>\n",
       "      <th>usd_type</th>\n",
       "      <th>category_name</th>\n",
       "    </tr>\n",
       "  </thead>\n",
       "  <tbody>\n",
       "    <tr>\n",
       "      <th>0</th>\n",
       "      <td>315</td>\n",
       "      <td>Babalus Shoes</td>\n",
       "      <td>{\"id\":266,\"name\":\"Footwear\",\"slug\":\"fashion/fo...</td>\n",
       "      <td>28645</td>\n",
       "      <td>US</td>\n",
       "      <td>1541459205</td>\n",
       "      <td>{\"id\":2094277840,\"name\":\"Lucy Conroy\",\"slug\":\"...</td>\n",
       "      <td>USD</td>\n",
       "      <td>$</td>\n",
       "      <td>True</td>\n",
       "      <td>...</td>\n",
       "      <td>https://www.kickstarter.com/discover/categorie...</td>\n",
       "      <td>False</td>\n",
       "      <td>False</td>\n",
       "      <td>live</td>\n",
       "      <td>1548223375</td>\n",
       "      <td>1.0</td>\n",
       "      <td>{\"web\":{\"project\":\"https://www.kickstarter.com...</td>\n",
       "      <td>28645.0</td>\n",
       "      <td>international</td>\n",
       "      <td>Footwear</td>\n",
       "    </tr>\n",
       "    <tr>\n",
       "      <th>1</th>\n",
       "      <td>47</td>\n",
       "      <td>A colorful Dia de los Muertos themed oracle de...</td>\n",
       "      <td>{\"id\":273,\"name\":\"Playing Cards\",\"slug\":\"games...</td>\n",
       "      <td>1950</td>\n",
       "      <td>US</td>\n",
       "      <td>1501684093</td>\n",
       "      <td>{\"id\":723886115,\"name\":\"Lisa Vollrath\",\"slug\":...</td>\n",
       "      <td>USD</td>\n",
       "      <td>$</td>\n",
       "      <td>True</td>\n",
       "      <td>...</td>\n",
       "      <td>https://www.kickstarter.com/discover/categorie...</td>\n",
       "      <td>True</td>\n",
       "      <td>False</td>\n",
       "      <td>successful</td>\n",
       "      <td>1504976459</td>\n",
       "      <td>1.0</td>\n",
       "      <td>{\"web\":{\"project\":\"https://www.kickstarter.com...</td>\n",
       "      <td>1950.0</td>\n",
       "      <td>domestic</td>\n",
       "      <td>Playing Cards</td>\n",
       "    </tr>\n",
       "  </tbody>\n",
       "</table>\n",
       "<p>2 rows × 38 columns</p>\n",
       "</div>"
      ],
      "text/plain": [
       "   backers_count                                              blurb  \\\n",
       "0            315                                      Babalus Shoes   \n",
       "1             47  A colorful Dia de los Muertos themed oracle de...   \n",
       "\n",
       "                                            category  \\\n",
       "0  {\"id\":266,\"name\":\"Footwear\",\"slug\":\"fashion/fo...   \n",
       "1  {\"id\":273,\"name\":\"Playing Cards\",\"slug\":\"games...   \n",
       "\n",
       "   converted_pledged_amount country  created_at  \\\n",
       "0                     28645      US  1541459205   \n",
       "1                      1950      US  1501684093   \n",
       "\n",
       "                                             creator currency currency_symbol  \\\n",
       "0  {\"id\":2094277840,\"name\":\"Lucy Conroy\",\"slug\":\"...      USD               $   \n",
       "1  {\"id\":723886115,\"name\":\"Lisa Vollrath\",\"slug\":...      USD               $   \n",
       "\n",
       "   currency_trailing_code  ...  \\\n",
       "0                    True  ...   \n",
       "1                    True  ...   \n",
       "\n",
       "                                          source_url  spotlight  staff_pick  \\\n",
       "0  https://www.kickstarter.com/discover/categorie...      False       False   \n",
       "1  https://www.kickstarter.com/discover/categorie...       True       False   \n",
       "\n",
       "        state  state_changed_at  static_usd_rate  \\\n",
       "0        live        1548223375              1.0   \n",
       "1  successful        1504976459              1.0   \n",
       "\n",
       "                                                urls usd_pledged  \\\n",
       "0  {\"web\":{\"project\":\"https://www.kickstarter.com...     28645.0   \n",
       "1  {\"web\":{\"project\":\"https://www.kickstarter.com...      1950.0   \n",
       "\n",
       "        usd_type  category_name  \n",
       "0  international       Footwear  \n",
       "1       domestic  Playing Cards  \n",
       "\n",
       "[2 rows x 38 columns]"
      ]
     },
     "execution_count": 9,
     "metadata": {},
     "output_type": "execute_result"
    }
   ],
   "source": [
    "df.head(2)"
   ]
  },
  {
   "cell_type": "code",
   "execution_count": 10,
   "metadata": {},
   "outputs": [
    {
     "data": {
      "text/plain": [
       "Index(['backers_count', 'blurb', 'category', 'converted_pledged_amount',\n",
       "       'country', 'created_at', 'creator', 'currency', 'currency_symbol',\n",
       "       'currency_trailing_code', 'current_currency', 'deadline',\n",
       "       'disable_communication', 'friends', 'fx_rate', 'goal', 'id',\n",
       "       'is_backing', 'is_starrable', 'is_starred', 'launched_at', 'location',\n",
       "       'name', 'permissions', 'photo', 'pledged', 'profile', 'slug',\n",
       "       'source_url', 'spotlight', 'staff_pick', 'state', 'state_changed_at',\n",
       "       'static_usd_rate', 'urls', 'usd_pledged', 'usd_type', 'category_name'],\n",
       "      dtype='object')"
      ]
     },
     "execution_count": 10,
     "metadata": {},
     "output_type": "execute_result"
    }
   ],
   "source": [
    "#Check out column names\n",
    "df.columns"
   ]
  },
  {
   "cell_type": "code",
   "execution_count": 11,
   "metadata": {},
   "outputs": [
    {
     "data": {
      "text/plain": [
       "(209222, 38)"
      ]
     },
     "execution_count": 11,
     "metadata": {},
     "output_type": "execute_result"
    }
   ],
   "source": [
    "#Check out counts of rows and columns\n",
    "df.shape"
   ]
  },
  {
   "cell_type": "code",
   "execution_count": 12,
   "metadata": {},
   "outputs": [
    {
     "data": {
      "text/plain": [
       "backers_count                    0\n",
       "blurb                            8\n",
       "category                         0\n",
       "converted_pledged_amount         0\n",
       "country                          0\n",
       "created_at                       0\n",
       "creator                          0\n",
       "currency                         0\n",
       "currency_symbol                  0\n",
       "currency_trailing_code           0\n",
       "current_currency                 0\n",
       "deadline                         0\n",
       "disable_communication            0\n",
       "friends                     208922\n",
       "fx_rate                          0\n",
       "goal                             0\n",
       "id                               0\n",
       "is_backing                  208922\n",
       "is_starrable                     0\n",
       "is_starred                  208922\n",
       "launched_at                      0\n",
       "location                       226\n",
       "name                             0\n",
       "permissions                 208922\n",
       "photo                            0\n",
       "pledged                          0\n",
       "profile                          0\n",
       "slug                             0\n",
       "source_url                       0\n",
       "spotlight                        0\n",
       "staff_pick                       0\n",
       "state                            0\n",
       "state_changed_at                 0\n",
       "static_usd_rate                  0\n",
       "urls                             0\n",
       "usd_pledged                      0\n",
       "usd_type                       480\n",
       "category_name                    0\n",
       "dtype: int64"
      ]
     },
     "execution_count": 12,
     "metadata": {},
     "output_type": "execute_result"
    }
   ],
   "source": [
    "#look at null values\n",
    "df.isnull().sum()"
   ]
  },
  {
   "cell_type": "code",
   "execution_count": 13,
   "metadata": {},
   "outputs": [],
   "source": [
    "#Delete variables with too many missings\n",
    "df.drop(columns=['friends', 'is_backing', 'is_starred', 'permissions'], inplace=True)"
   ]
  },
  {
   "cell_type": "markdown",
   "metadata": {},
   "source": [
    "### Data transformation"
   ]
  },
  {
   "cell_type": "code",
   "execution_count": 14,
   "metadata": {},
   "outputs": [
    {
     "name": "stdout",
     "output_type": "stream",
     "text": [
      "<class 'pandas.core.frame.DataFrame'>\n",
      "RangeIndex: 209222 entries, 0 to 209221\n",
      "Data columns (total 34 columns):\n",
      " #   Column                    Non-Null Count   Dtype  \n",
      "---  ------                    --------------   -----  \n",
      " 0   backers_count             209222 non-null  int64  \n",
      " 1   blurb                     209214 non-null  object \n",
      " 2   category                  209222 non-null  object \n",
      " 3   converted_pledged_amount  209222 non-null  int64  \n",
      " 4   country                   209222 non-null  object \n",
      " 5   created_at                209222 non-null  int64  \n",
      " 6   creator                   209222 non-null  object \n",
      " 7   currency                  209222 non-null  object \n",
      " 8   currency_symbol           209222 non-null  object \n",
      " 9   currency_trailing_code    209222 non-null  bool   \n",
      " 10  current_currency          209222 non-null  object \n",
      " 11  deadline                  209222 non-null  int64  \n",
      " 12  disable_communication     209222 non-null  bool   \n",
      " 13  fx_rate                   209222 non-null  float64\n",
      " 14  goal                      209222 non-null  float64\n",
      " 15  id                        209222 non-null  int64  \n",
      " 16  is_starrable              209222 non-null  bool   \n",
      " 17  launched_at               209222 non-null  int64  \n",
      " 18  location                  208996 non-null  object \n",
      " 19  name                      209222 non-null  object \n",
      " 20  photo                     209222 non-null  object \n",
      " 21  pledged                   209222 non-null  float64\n",
      " 22  profile                   209222 non-null  object \n",
      " 23  slug                      209222 non-null  object \n",
      " 24  source_url                209222 non-null  object \n",
      " 25  spotlight                 209222 non-null  bool   \n",
      " 26  staff_pick                209222 non-null  bool   \n",
      " 27  state                     209222 non-null  object \n",
      " 28  state_changed_at          209222 non-null  int64  \n",
      " 29  static_usd_rate           209222 non-null  float64\n",
      " 30  urls                      209222 non-null  object \n",
      " 31  usd_pledged               209222 non-null  float64\n",
      " 32  usd_type                  208742 non-null  object \n",
      " 33  category_name             209222 non-null  object \n",
      "dtypes: bool(5), float64(5), int64(7), object(17)\n",
      "memory usage: 47.3+ MB\n"
     ]
    }
   ],
   "source": [
    "#Check out variable types\n",
    "df.info()"
   ]
  },
  {
   "cell_type": "code",
   "execution_count": 15,
   "metadata": {},
   "outputs": [
    {
     "name": "stdout",
     "output_type": "stream",
     "text": [
      "0    315\n",
      "1     47\n",
      "2    271\n",
      "Name: backers_count, dtype: int64\n",
      "0                                        Babalus Shoes\n",
      "1    A colorful Dia de los Muertos themed oracle de...\n",
      "2    Electra's long awaited, eclectic Debut Pop/Roc...\n",
      "Name: blurb, dtype: object\n",
      "0    {\"id\":266,\"name\":\"Footwear\",\"slug\":\"fashion/fo...\n",
      "1    {\"id\":273,\"name\":\"Playing Cards\",\"slug\":\"games...\n",
      "2    {\"id\":43,\"name\":\"Rock\",\"slug\":\"music/rock\",\"po...\n",
      "Name: category, dtype: object\n",
      "0    28645\n",
      "1     1950\n",
      "2    22404\n",
      "Name: converted_pledged_amount, dtype: int64\n",
      "0    US\n",
      "1    US\n",
      "2    US\n",
      "Name: country, dtype: object\n",
      "0    1541459205\n",
      "1    1501684093\n",
      "2    1348987533\n",
      "Name: created_at, dtype: int64\n",
      "0    {\"id\":2094277840,\"name\":\"Lucy Conroy\",\"slug\":\"...\n",
      "1    {\"id\":723886115,\"name\":\"Lisa Vollrath\",\"slug\":...\n",
      "2    {\"id\":323849677,\"name\":\"Electra\",\"is_registere...\n",
      "Name: creator, dtype: object\n",
      "0    USD\n",
      "1    USD\n",
      "2    USD\n",
      "Name: currency, dtype: object\n",
      "0    $\n",
      "1    $\n",
      "2    $\n",
      "Name: currency_symbol, dtype: object\n",
      "0    True\n",
      "1    True\n",
      "2    True\n",
      "Name: currency_trailing_code, dtype: bool\n",
      "0    USD\n",
      "1    USD\n",
      "2    USD\n",
      "Name: current_currency, dtype: object\n",
      "0    1552539775\n",
      "1    1504976459\n",
      "2    1371013395\n",
      "Name: deadline, dtype: int64\n",
      "0    False\n",
      "1    False\n",
      "2    False\n",
      "Name: disable_communication, dtype: bool\n",
      "0    1.0\n",
      "1    1.0\n",
      "2    1.0\n",
      "Name: fx_rate, dtype: float64\n",
      "0    28000.0\n",
      "1     1000.0\n",
      "2    15000.0\n",
      "Name: goal, dtype: float64\n",
      "0    2108505034\n",
      "1     928751314\n",
      "2     928014092\n",
      "Name: id, dtype: int64\n",
      "0    False\n",
      "1    False\n",
      "2    False\n",
      "Name: is_starrable, dtype: bool\n",
      "0    1548223375\n",
      "1    1502384459\n",
      "2    1368421395\n",
      "Name: launched_at, dtype: int64\n",
      "0    {\"id\":2462429,\"name\":\"Novato\",\"slug\":\"novato-c...\n",
      "1    {\"id\":2400549,\"name\":\"Euless\",\"slug\":\"euless-t...\n",
      "2    {\"id\":2423474,\"name\":\"Hollywood\",\"slug\":\"holly...\n",
      "Name: location, dtype: object\n",
      "0                             Babalus Children's Shoes\n",
      "1                              The Ofrenda Oracle Deck\n",
      "2    Record Electra's Debut Album (Pop, Rock, Class...\n",
      "Name: name, dtype: object\n",
      "0    {\"key\":\"assets/023/667/205/a565fde5382d6b53276...\n",
      "1    {\"key\":\"assets/017/766/989/dd9f18c773a8546d996...\n",
      "2    {\"key\":\"assets/011/433/681/489fd66f7861fefd8c8...\n",
      "Name: photo, dtype: object\n",
      "0    28645.0\n",
      "1     1950.0\n",
      "2    22404.0\n",
      "Name: pledged, dtype: float64\n",
      "0    {\"id\":3508024,\"project_id\":3508024,\"state\":\"in...\n",
      "1    {\"id\":3094785,\"project_id\":3094785,\"state\":\"ac...\n",
      "2    {\"id\":359847,\"project_id\":359847,\"state\":\"inac...\n",
      "Name: profile, dtype: object\n",
      "0                           babalus-childrens-shoes\n",
      "1                           the-ofrenda-oracle-deck\n",
      "2    record-electras-debut-album-pop-rock-classical\n",
      "Name: slug, dtype: object\n",
      "0    https://www.kickstarter.com/discover/categorie...\n",
      "1    https://www.kickstarter.com/discover/categorie...\n",
      "2    https://www.kickstarter.com/discover/categorie...\n",
      "Name: source_url, dtype: object\n",
      "0    False\n",
      "1     True\n",
      "2     True\n",
      "Name: spotlight, dtype: bool\n",
      "0    False\n",
      "1    False\n",
      "2    False\n",
      "Name: staff_pick, dtype: bool\n",
      "0          live\n",
      "1    successful\n",
      "2    successful\n",
      "Name: state, dtype: object\n",
      "0    1548223375\n",
      "1    1504976459\n",
      "2    1371013395\n",
      "Name: state_changed_at, dtype: int64\n",
      "0    1.0\n",
      "1    1.0\n",
      "2    1.0\n",
      "Name: static_usd_rate, dtype: float64\n",
      "0    {\"web\":{\"project\":\"https://www.kickstarter.com...\n",
      "1    {\"web\":{\"project\":\"https://www.kickstarter.com...\n",
      "2    {\"web\":{\"project\":\"https://www.kickstarter.com...\n",
      "Name: urls, dtype: object\n",
      "0    28645.0\n",
      "1     1950.0\n",
      "2    22404.0\n",
      "Name: usd_pledged, dtype: float64\n",
      "0    international\n",
      "1         domestic\n",
      "2    international\n",
      "Name: usd_type, dtype: object\n",
      "0         Footwear\n",
      "1    Playing Cards\n",
      "2             Rock\n",
      "Name: category_name, dtype: object\n"
     ]
    }
   ],
   "source": [
    "#Look at variable types\n",
    "print(df.backers_count.head(3))\n",
    "print(df.blurb.head(3))\n",
    "print(df.category.head(3)) #json string - to be transformed\n",
    "print(df.converted_pledged_amount.head(3))\n",
    "print(df.country.head(3)) #dtype: object - get dummy for each country\n",
    "print(df.created_at.head(3))\n",
    "print(df.creator.head(3)) #json string - NOT to be transformed. Variable contains Kickstarter's name. Variable to be dropped\n",
    "print(df.currency.head(3)) #dtype: object - get dummy for each currency\n",
    "print(df.currency_symbol.head(3)) #dtype: object - Symbol of the currency. Variable to be dropped. \n",
    "print(df.currency_trailing_code.head(3)) #dtype: bool - Variable to be dropped. \n",
    "print(df.current_currency.head(3)) #dtype: object - Variable to be dropped. \n",
    "print(df.deadline.head(3)) #dtype: datetime64[ns] - To be converted to more readable format of date and time. \n",
    "print(df.disable_communication.head(3)) #dtype: bool - Variable to be dropped. \n",
    "print(df.fx_rate.head(3))\n",
    "print(df.goal.head(3))\n",
    "print(df.id.head(3))\n",
    "print(df.is_starrable.head(3)) #dtype: bool - Variable to be dropped. \n",
    "print(df.launched_at.head(3)) #dtype: datetime64[ns] - To be converted to more readable format of date and time. \n",
    "print(df.location.head(3)) #dtype: object (json string) - To be converted to panda df\n",
    "print(df.name.head(3)) #dtype: object - Exact name of project. \n",
    "print(df.photo.head(3)) #dtype: object (json string) - Variable to be dropped as it is just a photo. \n",
    "print(df.pledged.head(3))\n",
    "print(df.profile.head(3)) #dtype: object (json string) - To be converted? \n",
    "print(df.slug.head(3)) #dtype: object (json string) - another description of the project with dashed and no spaces\n",
    "print(df.source_url.head(3)) #dtype: object - URL of project. Variable to be dropped.\n",
    "print(df.spotlight.head(3)) #dtype: bool - If porject is spotlighted. Variable to be dropped.\n",
    "print(df.staff_pick.head(3)) #dtype: bool - If staff of Kickstarter likes the project. Variable to be dropped.\n",
    "print(df.state.head(3)) #dtype: object - If the project is successful, cancelled etc. - get dummy for each state\n",
    "print(df.state_changed_at.head(3)) #dtype: int64 - Day the state changed. To be converted to more readable format of date and time.\n",
    "print(df.static_usd_rate.head(3)) #dtype: float64 - Needed to convert all projects to the same currency\n",
    "print(df.urls.head(3)) #dtype: object (json string) - To be dropped as it just contains URL? \n",
    "print(df.usd_pledged.head(3))\n",
    "print(df.usd_type.head(3)) #dtype: object - International USD, USD etc. - get dummy for each USD type\n",
    "print(df.category_name.head(3)) #dtype: object - Project genre (art, tech etc.) - get dummy for each project genre"
   ]
  },
  {
   "cell_type": "code",
   "execution_count": 16,
   "metadata": {},
   "outputs": [
    {
     "name": "stdout",
     "output_type": "stream",
     "text": [
      "0    {\"id\":266,\"name\":\"Footwear\",\"slug\":\"fashion/fo...\n",
      "1    {\"id\":273,\"name\":\"Playing Cards\",\"slug\":\"games...\n",
      "2    {\"id\":43,\"name\":\"Rock\",\"slug\":\"music/rock\",\"po...\n",
      "Name: category, dtype: object\n",
      "0    {\"id\":2094277840,\"name\":\"Lucy Conroy\",\"slug\":\"...\n",
      "1    {\"id\":723886115,\"name\":\"Lisa Vollrath\",\"slug\":...\n",
      "2    {\"id\":323849677,\"name\":\"Electra\",\"is_registere...\n",
      "Name: creator, dtype: object\n",
      "0    {\"id\":2462429,\"name\":\"Novato\",\"slug\":\"novato-c...\n",
      "1    {\"id\":2400549,\"name\":\"Euless\",\"slug\":\"euless-t...\n",
      "2    {\"id\":2423474,\"name\":\"Hollywood\",\"slug\":\"holly...\n",
      "Name: location, dtype: object\n",
      "0    {\"key\":\"assets/023/667/205/a565fde5382d6b53276...\n",
      "1    {\"key\":\"assets/017/766/989/dd9f18c773a8546d996...\n",
      "2    {\"key\":\"assets/011/433/681/489fd66f7861fefd8c8...\n",
      "Name: photo, dtype: object\n",
      "0    {\"id\":3508024,\"project_id\":3508024,\"state\":\"in...\n",
      "1    {\"id\":3094785,\"project_id\":3094785,\"state\":\"ac...\n",
      "2    {\"id\":359847,\"project_id\":359847,\"state\":\"inac...\n",
      "Name: profile, dtype: object\n",
      "0                           babalus-childrens-shoes\n",
      "1                           the-ofrenda-oracle-deck\n",
      "2    record-electras-debut-album-pop-rock-classical\n",
      "Name: slug, dtype: object\n",
      "0    {\"web\":{\"project\":\"https://www.kickstarter.com...\n",
      "1    {\"web\":{\"project\":\"https://www.kickstarter.com...\n",
      "2    {\"web\":{\"project\":\"https://www.kickstarter.com...\n",
      "Name: urls, dtype: object\n",
      "0    $\n",
      "1    $\n",
      "2    $\n",
      "Name: currency_symbol, dtype: object\n",
      "0    True\n",
      "1    True\n",
      "2    True\n",
      "Name: currency_trailing_code, dtype: bool\n",
      "0    USD\n",
      "1    USD\n",
      "2    USD\n",
      "Name: current_currency, dtype: object\n",
      "0    False\n",
      "1    False\n",
      "2    False\n",
      "Name: disable_communication, dtype: bool\n",
      "0    False\n",
      "1    False\n",
      "2    False\n",
      "Name: is_starrable, dtype: bool\n",
      "0    https://www.kickstarter.com/discover/categorie...\n",
      "1    https://www.kickstarter.com/discover/categorie...\n",
      "2    https://www.kickstarter.com/discover/categorie...\n",
      "Name: source_url, dtype: object\n",
      "0    False\n",
      "1     True\n",
      "2     True\n",
      "Name: spotlight, dtype: bool\n",
      "0    False\n",
      "1    False\n",
      "2    False\n",
      "Name: staff_pick, dtype: bool\n",
      "0    USD\n",
      "1    USD\n",
      "2    USD\n",
      "Name: currency, dtype: object\n",
      "0    international\n",
      "1         domestic\n",
      "2    international\n",
      "Name: usd_type, dtype: object\n",
      "0    1548223375\n",
      "1    1504976459\n",
      "2    1371013395\n",
      "Name: state_changed_at, dtype: int64\n",
      "0    US\n",
      "1    US\n",
      "2    US\n",
      "Name: country, dtype: object\n",
      "0         Footwear\n",
      "1    Playing Cards\n",
      "2             Rock\n",
      "Name: category_name, dtype: object\n",
      "0          live\n",
      "1    successful\n",
      "2    successful\n",
      "Name: state, dtype: object\n",
      "0    1552539775\n",
      "1    1504976459\n",
      "2    1371013395\n",
      "Name: deadline, dtype: int64\n",
      "0    1548223375\n",
      "1    1502384459\n",
      "2    1368421395\n",
      "Name: launched_at, dtype: int64\n"
     ]
    }
   ],
   "source": [
    "#Json strings\n",
    "print(df.category.head(3)) #json string - to be transformed\n",
    "\n",
    "#Drop json strings\n",
    "print(df.creator.head(3)) #json string - NOT to be transformed. Variable contains Kickstarter's name. Variable to be dropped\n",
    "print(df.location.head(3)) #dtype: object (json string) - To be converted to panda df\n",
    "print(df.photo.head(3)) #dtype: object (json string) - Variable to be dropped as it is just a photo. \n",
    "print(df.profile.head(3)) #dtype: object (json string) - To be converted? \n",
    "print(df.slug.head(3)) #dtype: object (json string) - another description of the project with dashed and no spaces\n",
    "print(df.urls.head(3)) #dtype: object (json string) - To be dropped as it just contains URL? \n",
    "\n",
    "#Drop variables\n",
    "print(df.currency_symbol.head(3)) #dtype: object - Symbol of the currency. Variable to be dropped. \n",
    "print(df.currency_trailing_code.head(3)) #dtype: bool - Variable to be dropped. \n",
    "print(df.current_currency.head(3)) #dtype: object - Variable to be dropped. \n",
    "print(df.disable_communication.head(3)) #dtype: bool - Variable to be dropped. \n",
    "print(df.is_starrable.head(3)) #dtype: bool - Variable to be dropped. \n",
    "print(df.source_url.head(3)) #dtype: object - URL of project. Variable to be dropped.\n",
    "print(df.spotlight.head(3)) #dtype: bool - If porject is spotlighted. Variable to be dropped.\n",
    "print(df.staff_pick.head(3)) #dtype: bool - If staff of Kickstarter likes the project. Variable to be dropped.\n",
    "print(df.currency.head(3)) #dtype: object - get dummy for each currency\n",
    "print(df.usd_type.head(3)) #dtype: object - International USD, USD etc. - get dummy for each USD type\n",
    "print(df.state_changed_at.head(3)) #dtype: int64 - Day the state changed. To be converted to more readable format of date and time.\n",
    "\n",
    "#Get dummies\n",
    "print(df.country.head(3)) #dtype: object - get dummy for each country\n",
    "print(df.category_name.head(3)) #dtype: object - Project genre (art, tech etc.) - get dummy for each project genre\n",
    "\n",
    "#Encode y-variable\n",
    "print(df.state.head(3)) #dtype: object - If the project is successful, cancelled etc. - get dummy for each state\n",
    "\n",
    "#Convert from unix time stamp to more readable time format\n",
    "print(df.deadline.head(3)) #dtype: datetime64[ns] - To be converted to more readable format of date and time. \n",
    "print(df.launched_at.head(3)) #dtype: datetime64[ns] - To be converted to more readable format of date and time. \n"
   ]
  },
  {
   "cell_type": "code",
   "execution_count": 17,
   "metadata": {},
   "outputs": [],
   "source": [
    "#Delete variables that are not needed\n",
    "#Some Json strings varariables\n",
    "df.drop(columns=['creator', 'location', 'photo', 'profile', 'slug', 'urls'], inplace=True)\n",
    "\n",
    "#Further variables\n",
    "df.drop(columns=['currency', 'currency_symbol', 'currency_trailing_code', \n",
    "                 'current_currency', 'disable_communication',\n",
    "                 'is_starrable', 'source_url', 'spotlight', 'staff_pick', \n",
    "                 'usd_type', 'state_changed_at'], inplace=True)"
   ]
  },
  {
   "cell_type": "code",
   "execution_count": 18,
   "metadata": {},
   "outputs": [
    {
     "name": "stdout",
     "output_type": "stream",
     "text": [
      "0   2019-03-14 05:02:55\n",
      "1   2017-09-09 17:00:59\n",
      "2   2013-06-12 05:03:15\n",
      "3   2017-03-13 17:22:56\n",
      "4   2013-01-09 20:32:07\n",
      "Name: converted_deadline, dtype: datetime64[ns]\n",
      "0   2019-01-23 06:02:55\n",
      "1   2017-08-10 17:00:59\n",
      "2   2013-05-13 05:03:15\n",
      "3   2017-01-12 18:22:56\n",
      "4   2012-12-10 20:32:07\n",
      "Name: converted_launched_at, dtype: datetime64[ns]\n"
     ]
    }
   ],
   "source": [
    "#Convert from unix time stamp to more readable time format\n",
    "df['converted_deadline'] = pd.to_datetime(df['deadline'], unit='s')\n",
    "print(df.converted_deadline.head())\n",
    "\n",
    "df['converted_launched_at'] = pd.to_datetime(df['launched_at'], unit='s')\n",
    "print(df.converted_launched_at.head())"
   ]
  },
  {
   "cell_type": "code",
   "execution_count": 19,
   "metadata": {},
   "outputs": [
    {
     "data": {
      "text/html": [
       "<div>\n",
       "<style scoped>\n",
       "    .dataframe tbody tr th:only-of-type {\n",
       "        vertical-align: middle;\n",
       "    }\n",
       "\n",
       "    .dataframe tbody tr th {\n",
       "        vertical-align: top;\n",
       "    }\n",
       "\n",
       "    .dataframe thead th {\n",
       "        text-align: right;\n",
       "    }\n",
       "</style>\n",
       "<table border=\"1\" class=\"dataframe\">\n",
       "  <thead>\n",
       "    <tr style=\"text-align: right;\">\n",
       "      <th></th>\n",
       "      <th>backers_count</th>\n",
       "      <th>blurb</th>\n",
       "      <th>category</th>\n",
       "      <th>converted_pledged_amount</th>\n",
       "      <th>created_at</th>\n",
       "      <th>deadline</th>\n",
       "      <th>fx_rate</th>\n",
       "      <th>goal</th>\n",
       "      <th>id</th>\n",
       "      <th>launched_at</th>\n",
       "      <th>...</th>\n",
       "      <th>category_name_Wearables</th>\n",
       "      <th>category_name_Weaving</th>\n",
       "      <th>category_name_Web</th>\n",
       "      <th>category_name_Webcomics</th>\n",
       "      <th>category_name_Webseries</th>\n",
       "      <th>category_name_Woodworking</th>\n",
       "      <th>category_name_Workshops</th>\n",
       "      <th>category_name_World Music</th>\n",
       "      <th>category_name_Young Adult</th>\n",
       "      <th>category_name_Zines</th>\n",
       "    </tr>\n",
       "  </thead>\n",
       "  <tbody>\n",
       "    <tr>\n",
       "      <th>0</th>\n",
       "      <td>315</td>\n",
       "      <td>Babalus Shoes</td>\n",
       "      <td>{\"id\":266,\"name\":\"Footwear\",\"slug\":\"fashion/fo...</td>\n",
       "      <td>28645</td>\n",
       "      <td>1541459205</td>\n",
       "      <td>1552539775</td>\n",
       "      <td>1.000000</td>\n",
       "      <td>28000.0</td>\n",
       "      <td>2108505034</td>\n",
       "      <td>1548223375</td>\n",
       "      <td>...</td>\n",
       "      <td>0</td>\n",
       "      <td>0</td>\n",
       "      <td>0</td>\n",
       "      <td>0</td>\n",
       "      <td>0</td>\n",
       "      <td>0</td>\n",
       "      <td>0</td>\n",
       "      <td>0</td>\n",
       "      <td>0</td>\n",
       "      <td>0</td>\n",
       "    </tr>\n",
       "    <tr>\n",
       "      <th>1</th>\n",
       "      <td>47</td>\n",
       "      <td>A colorful Dia de los Muertos themed oracle de...</td>\n",
       "      <td>{\"id\":273,\"name\":\"Playing Cards\",\"slug\":\"games...</td>\n",
       "      <td>1950</td>\n",
       "      <td>1501684093</td>\n",
       "      <td>1504976459</td>\n",
       "      <td>1.000000</td>\n",
       "      <td>1000.0</td>\n",
       "      <td>928751314</td>\n",
       "      <td>1502384459</td>\n",
       "      <td>...</td>\n",
       "      <td>0</td>\n",
       "      <td>0</td>\n",
       "      <td>0</td>\n",
       "      <td>0</td>\n",
       "      <td>0</td>\n",
       "      <td>0</td>\n",
       "      <td>0</td>\n",
       "      <td>0</td>\n",
       "      <td>0</td>\n",
       "      <td>0</td>\n",
       "    </tr>\n",
       "    <tr>\n",
       "      <th>2</th>\n",
       "      <td>271</td>\n",
       "      <td>Electra's long awaited, eclectic Debut Pop/Roc...</td>\n",
       "      <td>{\"id\":43,\"name\":\"Rock\",\"slug\":\"music/rock\",\"po...</td>\n",
       "      <td>22404</td>\n",
       "      <td>1348987533</td>\n",
       "      <td>1371013395</td>\n",
       "      <td>1.000000</td>\n",
       "      <td>15000.0</td>\n",
       "      <td>928014092</td>\n",
       "      <td>1368421395</td>\n",
       "      <td>...</td>\n",
       "      <td>0</td>\n",
       "      <td>0</td>\n",
       "      <td>0</td>\n",
       "      <td>0</td>\n",
       "      <td>0</td>\n",
       "      <td>0</td>\n",
       "      <td>0</td>\n",
       "      <td>0</td>\n",
       "      <td>0</td>\n",
       "      <td>0</td>\n",
       "    </tr>\n",
       "    <tr>\n",
       "      <th>3</th>\n",
       "      <td>3</td>\n",
       "      <td>The Mist of Tribunal is a turn-based card game...</td>\n",
       "      <td>{\"id\":273,\"name\":\"Playing Cards\",\"slug\":\"games...</td>\n",
       "      <td>165</td>\n",
       "      <td>1483780271</td>\n",
       "      <td>1489425776</td>\n",
       "      <td>1.308394</td>\n",
       "      <td>10000.0</td>\n",
       "      <td>596091328</td>\n",
       "      <td>1484245376</td>\n",
       "      <td>...</td>\n",
       "      <td>0</td>\n",
       "      <td>0</td>\n",
       "      <td>0</td>\n",
       "      <td>0</td>\n",
       "      <td>0</td>\n",
       "      <td>0</td>\n",
       "      <td>0</td>\n",
       "      <td>0</td>\n",
       "      <td>0</td>\n",
       "      <td>0</td>\n",
       "    </tr>\n",
       "    <tr>\n",
       "      <th>4</th>\n",
       "      <td>3</td>\n",
       "      <td>Livng with a brain impairment, what its like t...</td>\n",
       "      <td>{\"id\":48,\"name\":\"Nonfiction\",\"slug\":\"publishin...</td>\n",
       "      <td>2820</td>\n",
       "      <td>1354817071</td>\n",
       "      <td>1357763527</td>\n",
       "      <td>1.000000</td>\n",
       "      <td>2800.0</td>\n",
       "      <td>998516049</td>\n",
       "      <td>1355171527</td>\n",
       "      <td>...</td>\n",
       "      <td>0</td>\n",
       "      <td>0</td>\n",
       "      <td>0</td>\n",
       "      <td>0</td>\n",
       "      <td>0</td>\n",
       "      <td>0</td>\n",
       "      <td>0</td>\n",
       "      <td>0</td>\n",
       "      <td>0</td>\n",
       "      <td>0</td>\n",
       "    </tr>\n",
       "    <tr>\n",
       "      <th>...</th>\n",
       "      <td>...</td>\n",
       "      <td>...</td>\n",
       "      <td>...</td>\n",
       "      <td>...</td>\n",
       "      <td>...</td>\n",
       "      <td>...</td>\n",
       "      <td>...</td>\n",
       "      <td>...</td>\n",
       "      <td>...</td>\n",
       "      <td>...</td>\n",
       "      <td>...</td>\n",
       "      <td>...</td>\n",
       "      <td>...</td>\n",
       "      <td>...</td>\n",
       "      <td>...</td>\n",
       "      <td>...</td>\n",
       "      <td>...</td>\n",
       "      <td>...</td>\n",
       "      <td>...</td>\n",
       "      <td>...</td>\n",
       "      <td>...</td>\n",
       "    </tr>\n",
       "    <tr>\n",
       "      <th>209217</th>\n",
       "      <td>341</td>\n",
       "      <td>Starship miniatures and 18x24\" deckplan poster...</td>\n",
       "      <td>{\"id\":34,\"name\":\"Tabletop Games\",\"slug\":\"games...</td>\n",
       "      <td>8924</td>\n",
       "      <td>1543286891</td>\n",
       "      <td>1544589900</td>\n",
       "      <td>1.000000</td>\n",
       "      <td>1500.0</td>\n",
       "      <td>1011591139</td>\n",
       "      <td>1543358312</td>\n",
       "      <td>...</td>\n",
       "      <td>0</td>\n",
       "      <td>0</td>\n",
       "      <td>0</td>\n",
       "      <td>0</td>\n",
       "      <td>0</td>\n",
       "      <td>0</td>\n",
       "      <td>0</td>\n",
       "      <td>0</td>\n",
       "      <td>0</td>\n",
       "      <td>0</td>\n",
       "    </tr>\n",
       "    <tr>\n",
       "      <th>209218</th>\n",
       "      <td>72</td>\n",
       "      <td>Soul, hip-hop and sexy falsettos with an opera...</td>\n",
       "      <td>{\"id\":38,\"name\":\"Electronic Music\",\"slug\":\"mus...</td>\n",
       "      <td>5710</td>\n",
       "      <td>1493041572</td>\n",
       "      <td>1497909600</td>\n",
       "      <td>1.132091</td>\n",
       "      <td>5000.0</td>\n",
       "      <td>4607750</td>\n",
       "      <td>1494782514</td>\n",
       "      <td>...</td>\n",
       "      <td>0</td>\n",
       "      <td>0</td>\n",
       "      <td>0</td>\n",
       "      <td>0</td>\n",
       "      <td>0</td>\n",
       "      <td>0</td>\n",
       "      <td>0</td>\n",
       "      <td>0</td>\n",
       "      <td>0</td>\n",
       "      <td>0</td>\n",
       "    </tr>\n",
       "    <tr>\n",
       "      <th>209219</th>\n",
       "      <td>62</td>\n",
       "      <td>What started as a homemade gift has turned int...</td>\n",
       "      <td>{\"id\":52,\"name\":\"Hardware\",\"slug\":\"technology/...</td>\n",
       "      <td>2681</td>\n",
       "      <td>1341343795</td>\n",
       "      <td>1347854340</td>\n",
       "      <td>1.000000</td>\n",
       "      <td>2500.0</td>\n",
       "      <td>67097337</td>\n",
       "      <td>1344976590</td>\n",
       "      <td>...</td>\n",
       "      <td>0</td>\n",
       "      <td>0</td>\n",
       "      <td>0</td>\n",
       "      <td>0</td>\n",
       "      <td>0</td>\n",
       "      <td>0</td>\n",
       "      <td>0</td>\n",
       "      <td>0</td>\n",
       "      <td>0</td>\n",
       "      <td>0</td>\n",
       "    </tr>\n",
       "    <tr>\n",
       "      <th>209220</th>\n",
       "      <td>76</td>\n",
       "      <td>Seattle Transmedia &amp; Independent Film Festival...</td>\n",
       "      <td>{\"id\":295,\"name\":\"Festivals\",\"slug\":\"film &amp; vi...</td>\n",
       "      <td>5692</td>\n",
       "      <td>1425256957</td>\n",
       "      <td>1429536375</td>\n",
       "      <td>1.000000</td>\n",
       "      <td>5500.0</td>\n",
       "      <td>1031742546</td>\n",
       "      <td>1426944375</td>\n",
       "      <td>...</td>\n",
       "      <td>0</td>\n",
       "      <td>0</td>\n",
       "      <td>0</td>\n",
       "      <td>0</td>\n",
       "      <td>0</td>\n",
       "      <td>0</td>\n",
       "      <td>0</td>\n",
       "      <td>0</td>\n",
       "      <td>0</td>\n",
       "      <td>0</td>\n",
       "    </tr>\n",
       "    <tr>\n",
       "      <th>209221</th>\n",
       "      <td>44</td>\n",
       "      <td>The @1000TimesYes 2009 Tweet Box is a handmade...</td>\n",
       "      <td>{\"id\":13,\"name\":\"Journalism\",\"slug\":\"journalis...</td>\n",
       "      <td>1293</td>\n",
       "      <td>1263225900</td>\n",
       "      <td>1266814740</td>\n",
       "      <td>1.000000</td>\n",
       "      <td>1000.0</td>\n",
       "      <td>1374988684</td>\n",
       "      <td>1264099593</td>\n",
       "      <td>...</td>\n",
       "      <td>0</td>\n",
       "      <td>0</td>\n",
       "      <td>0</td>\n",
       "      <td>0</td>\n",
       "      <td>0</td>\n",
       "      <td>0</td>\n",
       "      <td>0</td>\n",
       "      <td>0</td>\n",
       "      <td>0</td>\n",
       "      <td>0</td>\n",
       "    </tr>\n",
       "  </tbody>\n",
       "</table>\n",
       "<p>209222 rows × 196 columns</p>\n",
       "</div>"
      ],
      "text/plain": [
       "        backers_count                                              blurb  \\\n",
       "0                 315                                      Babalus Shoes   \n",
       "1                  47  A colorful Dia de los Muertos themed oracle de...   \n",
       "2                 271  Electra's long awaited, eclectic Debut Pop/Roc...   \n",
       "3                   3  The Mist of Tribunal is a turn-based card game...   \n",
       "4                   3  Livng with a brain impairment, what its like t...   \n",
       "...               ...                                                ...   \n",
       "209217            341  Starship miniatures and 18x24\" deckplan poster...   \n",
       "209218             72  Soul, hip-hop and sexy falsettos with an opera...   \n",
       "209219             62  What started as a homemade gift has turned int...   \n",
       "209220             76  Seattle Transmedia & Independent Film Festival...   \n",
       "209221             44  The @1000TimesYes 2009 Tweet Box is a handmade...   \n",
       "\n",
       "                                                 category  \\\n",
       "0       {\"id\":266,\"name\":\"Footwear\",\"slug\":\"fashion/fo...   \n",
       "1       {\"id\":273,\"name\":\"Playing Cards\",\"slug\":\"games...   \n",
       "2       {\"id\":43,\"name\":\"Rock\",\"slug\":\"music/rock\",\"po...   \n",
       "3       {\"id\":273,\"name\":\"Playing Cards\",\"slug\":\"games...   \n",
       "4       {\"id\":48,\"name\":\"Nonfiction\",\"slug\":\"publishin...   \n",
       "...                                                   ...   \n",
       "209217  {\"id\":34,\"name\":\"Tabletop Games\",\"slug\":\"games...   \n",
       "209218  {\"id\":38,\"name\":\"Electronic Music\",\"slug\":\"mus...   \n",
       "209219  {\"id\":52,\"name\":\"Hardware\",\"slug\":\"technology/...   \n",
       "209220  {\"id\":295,\"name\":\"Festivals\",\"slug\":\"film & vi...   \n",
       "209221  {\"id\":13,\"name\":\"Journalism\",\"slug\":\"journalis...   \n",
       "\n",
       "        converted_pledged_amount  created_at    deadline   fx_rate     goal  \\\n",
       "0                          28645  1541459205  1552539775  1.000000  28000.0   \n",
       "1                           1950  1501684093  1504976459  1.000000   1000.0   \n",
       "2                          22404  1348987533  1371013395  1.000000  15000.0   \n",
       "3                            165  1483780271  1489425776  1.308394  10000.0   \n",
       "4                           2820  1354817071  1357763527  1.000000   2800.0   \n",
       "...                          ...         ...         ...       ...      ...   \n",
       "209217                      8924  1543286891  1544589900  1.000000   1500.0   \n",
       "209218                      5710  1493041572  1497909600  1.132091   5000.0   \n",
       "209219                      2681  1341343795  1347854340  1.000000   2500.0   \n",
       "209220                      5692  1425256957  1429536375  1.000000   5500.0   \n",
       "209221                      1293  1263225900  1266814740  1.000000   1000.0   \n",
       "\n",
       "                id  launched_at  ... category_name_Wearables  \\\n",
       "0       2108505034   1548223375  ...                       0   \n",
       "1        928751314   1502384459  ...                       0   \n",
       "2        928014092   1368421395  ...                       0   \n",
       "3        596091328   1484245376  ...                       0   \n",
       "4        998516049   1355171527  ...                       0   \n",
       "...            ...          ...  ...                     ...   \n",
       "209217  1011591139   1543358312  ...                       0   \n",
       "209218     4607750   1494782514  ...                       0   \n",
       "209219    67097337   1344976590  ...                       0   \n",
       "209220  1031742546   1426944375  ...                       0   \n",
       "209221  1374988684   1264099593  ...                       0   \n",
       "\n",
       "        category_name_Weaving category_name_Web  category_name_Webcomics  \\\n",
       "0                           0                 0                        0   \n",
       "1                           0                 0                        0   \n",
       "2                           0                 0                        0   \n",
       "3                           0                 0                        0   \n",
       "4                           0                 0                        0   \n",
       "...                       ...               ...                      ...   \n",
       "209217                      0                 0                        0   \n",
       "209218                      0                 0                        0   \n",
       "209219                      0                 0                        0   \n",
       "209220                      0                 0                        0   \n",
       "209221                      0                 0                        0   \n",
       "\n",
       "        category_name_Webseries category_name_Woodworking  \\\n",
       "0                             0                         0   \n",
       "1                             0                         0   \n",
       "2                             0                         0   \n",
       "3                             0                         0   \n",
       "4                             0                         0   \n",
       "...                         ...                       ...   \n",
       "209217                        0                         0   \n",
       "209218                        0                         0   \n",
       "209219                        0                         0   \n",
       "209220                        0                         0   \n",
       "209221                        0                         0   \n",
       "\n",
       "       category_name_Workshops  category_name_World Music  \\\n",
       "0                            0                          0   \n",
       "1                            0                          0   \n",
       "2                            0                          0   \n",
       "3                            0                          0   \n",
       "4                            0                          0   \n",
       "...                        ...                        ...   \n",
       "209217                       0                          0   \n",
       "209218                       0                          0   \n",
       "209219                       0                          0   \n",
       "209220                       0                          0   \n",
       "209221                       0                          0   \n",
       "\n",
       "        category_name_Young Adult  category_name_Zines  \n",
       "0                               0                    0  \n",
       "1                               0                    0  \n",
       "2                               0                    0  \n",
       "3                               0                    0  \n",
       "4                               0                    0  \n",
       "...                           ...                  ...  \n",
       "209217                          0                    0  \n",
       "209218                          0                    0  \n",
       "209219                          0                    0  \n",
       "209220                          0                    0  \n",
       "209221                          0                    0  \n",
       "\n",
       "[209222 rows x 196 columns]"
      ]
     },
     "execution_count": 19,
     "metadata": {},
     "output_type": "execute_result"
    }
   ],
   "source": [
    "#Get dummy variables for some variables\n",
    "pd.get_dummies(df, columns=['country', 'category_name'], drop_first=True) #Avoid dummy trap\n",
    "#df.category_name.unique()"
   ]
  },
  {
   "cell_type": "code",
   "execution_count": 20,
   "metadata": {},
   "outputs": [],
   "source": [
    "#Get rid of '  '\n",
    "df.columns = [s.replace(' ','') for s in df.columns]"
   ]
  },
  {
   "cell_type": "code",
   "execution_count": 21,
   "metadata": {},
   "outputs": [
    {
     "data": {
      "text/plain": [
       "array([0, 1])"
      ]
     },
     "execution_count": 21,
     "metadata": {},
     "output_type": "execute_result"
    }
   ],
   "source": [
    "#Change dependent variable 'state' to have only 1 for sucessfull and else 0\n",
    "df['success'] = df.state.apply(lambda x: 1 if x == 'successful' else 0)\n",
    "df.success.unique()"
   ]
  },
  {
   "cell_type": "markdown",
   "metadata": {},
   "source": [
    "### Feature engineering"
   ]
  },
  {
   "cell_type": "code",
   "execution_count": 22,
   "metadata": {},
   "outputs": [
    {
     "data": {
      "text/plain": [
       "0    49\n",
       "1    30\n",
       "2    30\n",
       "3    59\n",
       "4    30\n",
       "Name: project_duration, dtype: int64"
      ]
     },
     "execution_count": 22,
     "metadata": {},
     "output_type": "execute_result"
    }
   ],
   "source": [
    "#Create project duration variable\n",
    "df['project_duration'] = (df['converted_deadline'] - df['converted_launched_at']).dt.days\n",
    "df.project_duration.head()"
   ]
  },
  {
   "cell_type": "code",
   "execution_count": null,
   "metadata": {},
   "outputs": [],
   "source": [
    "df.goal.describe()"
   ]
  },
  {
   "cell_type": "code",
   "execution_count": 23,
   "metadata": {},
   "outputs": [
    {
     "data": {
      "image/png": "[encoded data removed]",
      "text/plain": [
       "<Figure size 720x432 with 1 Axes>"
      ]
     },
     "metadata": {
      "needs_background": "light"
     },
     "output_type": "display_data"
    }
   ],
   "source": [
    "#Boxplot of goal by success\n",
    "plt.figure(figsize=(10,6))\n",
    "sns.boxplot(x='success', y='goal', data=df, palette='magma')\n",
    "plt.title('Goal by success')\n",
    "plt.show()\n",
    "#Differences in sales month do not appear to be very large"
   ]
  },
  {
   "cell_type": "code",
   "execution_count": null,
   "metadata": {},
   "outputs": [],
   "source": []
  },
  {
   "cell_type": "code",
   "execution_count": null,
   "metadata": {},
   "outputs": [],
   "source": []
  },
  {
   "cell_type": "code",
   "execution_count": 24,
   "metadata": {},
   "outputs": [],
   "source": [
    "#Convert the currency of all projects to USD\n",
    "df['usd_goal'] = df['goal'] * df['static_usd_rate']"
   ]
  },
  {
   "cell_type": "markdown",
   "metadata": {},
   "source": [
    "### Preprocessing - standardization"
   ]
  },
  {
   "cell_type": "code",
   "execution_count": 25,
   "metadata": {},
   "outputs": [
    {
     "data": {
      "image/png": "[encoded data removed]",
      "text/plain": [
       "<Figure size 1080x864 with 16 Axes>"
      ]
     },
     "metadata": {
      "needs_background": "light"
     },
     "output_type": "display_data"
    }
   ],
   "source": [
    "df.hist(figsize=(15, 12));"
   ]
  },
  {
   "cell_type": "code",
   "execution_count": 26,
   "metadata": {},
   "outputs": [
    {
     "data": {
      "text/plain": [
       "Index(['backers_count', 'blurb', 'category', 'converted_pledged_amount',\n",
       "       'country', 'created_at', 'deadline', 'fx_rate', 'goal', 'id',\n",
       "       'launched_at', 'name', 'pledged', 'state', 'static_usd_rate',\n",
       "       'usd_pledged', 'category_name', 'converted_deadline',\n",
       "       'converted_launched_at', 'success', 'project_duration', 'usd_goal'],\n",
       "      dtype='object')"
      ]
     },
     "execution_count": 26,
     "metadata": {},
     "output_type": "execute_result"
    }
   ],
   "source": [
    "df.columns"
   ]
  },
  {
   "cell_type": "code",
   "execution_count": 27,
   "metadata": {},
   "outputs": [
    {
     "data": {
      "text/plain": [
       "Index(['country', 'created_at', 'goal', 'category_name', 'converted_deadline',\n",
       "       'converted_launched_at', 'success', 'project_duration', 'usd_goal'],\n",
       "      dtype='object')"
      ]
     },
     "execution_count": 27,
     "metadata": {},
     "output_type": "execute_result"
    }
   ],
   "source": [
    "#Drop further variables\n",
    "df.drop(columns=['backers_count', 'converted_pledged_amount', 'pledged', 'usd_pledged',\n",
    "                 'fx_rate', 'static_usd_rate', 'id', 'blurb', 'name', 'state',\n",
    "                 'deadline', 'launched_at', 'category'], inplace=True)\n",
    "#'goal'\n",
    "df.columns"
   ]
  },
  {
   "cell_type": "code",
   "execution_count": 28,
   "metadata": {},
   "outputs": [
    {
     "data": {
      "text/plain": [
       "array(['Footwear', 'Playing Cards', 'Rock', 'Nonfiction',\n",
       "       'Classical Music', 'Music', 'Immersive', 'Accessories',\n",
       "       'Restaurants', 'Mixed Media', 'World Music', 'Experimental',\n",
       "       'Spaces', 'Fine Art', 'Small Batch', 'Plays', 'Sculpture',\n",
       "       'Photography', 'Fashion', 'Electronic Music', 'Software',\n",
       "       'Apparel', 'Performance Art', 'Jewelry', 'Workshops', 'Theater',\n",
       "       'Musical', 'Photobooks', 'Nature', 'Animals', 'Ready-to-wear',\n",
       "       'Places', 'Country & Folk', 'People', 'Indie Rock',\n",
       "       'Graphic Design', 'Narrative Film', 'Television', 'Wearables',\n",
       "       'Performances', 'Sound', 'Video Art', 'Gadgets', 'Printing',\n",
       "       'Anthologies', 'Art Books', 'DIY Electronics', 'Live Games',\n",
       "       '3D Printing', 'Civic Design', 'Technology', 'Hardware',\n",
       "       'Camera Equipment', 'Space Exploration', 'Web', 'Literary Spaces',\n",
       "       'Apps', 'Robots', 'Fabrication Tools', 'Flight', 'Taxidermy',\n",
       "       'Vegan', 'Pet Fashion', 'Poetry', 'Puzzles', 'Product Design',\n",
       "       'Installations', 'Events', 'Comic Books', 'Documentary', 'Faith',\n",
       "       'Shorts', 'Conceptual Art', 'Translations', 'Comics',\n",
       "       'Graphic Novels', 'Pottery', 'Tabletop Games', 'Art',\n",
       "       'Digital Art', 'Zines', 'Action', 'Public Art', 'Comedy',\n",
       "       'Painting', 'Webcomics', 'Ceramics', 'Illustration', 'Hip-Hop',\n",
       "       'Cookbooks', 'Food', 'Thrillers', 'Design', 'Movie Theaters',\n",
       "       \"Children's Books\", 'Academic', 'Video Games', 'Childrenswear',\n",
       "       'Music Videos', 'Drinks', 'Fantasy', 'Latin', 'Romance',\n",
       "       'Stationery', 'Crochet', 'Typography', \"Farmer's Markets\",\n",
       "       'Food Trucks', 'Young Adult', 'Animation', 'Woodworking', 'DIY',\n",
       "       'Crafts', 'Blues', 'Gaming Hardware', 'Glass', 'Architecture',\n",
       "       'R&B', 'Film & Video', 'Weaving', 'Candles', 'Horror', 'Festivals',\n",
       "       'Periodicals', 'Knitting', 'Kids', 'Webseries', 'Drama',\n",
       "       'Science Fiction', 'Pop', 'Jazz', 'Punk', 'Quilts', 'Dance',\n",
       "       'Fiction', 'Family', 'Photo', 'Interactive Design', 'Print',\n",
       "       'Calendars', 'Residencies', 'Textiles', 'Publishing', 'Audio',\n",
       "       'Video', 'Makerspaces', 'Literary Journals', 'Bacon',\n",
       "       'Community Gardens', 'Letterpress', 'Radio & Podcasts',\n",
       "       'Mobile Games', 'Farms', 'Journalism', 'Metal', 'Couture', 'Games',\n",
       "       'Embroidery', 'Chiptune'], dtype=object)"
      ]
     },
     "execution_count": 28,
     "metadata": {},
     "output_type": "execute_result"
    }
   ],
   "source": [
    "df.category_name.unique()"
   ]
  },
  {
   "cell_type": "code",
   "execution_count": 29,
   "metadata": {},
   "outputs": [
    {
     "data": {
      "image/png": "[encoded data removed]",
      "text/plain": [
       "<Figure size 1080x864 with 6 Axes>"
      ]
     },
     "metadata": {
      "needs_background": "light"
     },
     "output_type": "display_data"
    }
   ],
   "source": [
    "df.hist(figsize=(15, 12));"
   ]
  },
  {
   "cell_type": "code",
   "execution_count": 30,
   "metadata": {},
   "outputs": [
    {
     "data": {
      "text/html": [
       "<div>\n",
       "<style scoped>\n",
       "    .dataframe tbody tr th:only-of-type {\n",
       "        vertical-align: middle;\n",
       "    }\n",
       "\n",
       "    .dataframe tbody tr th {\n",
       "        vertical-align: top;\n",
       "    }\n",
       "\n",
       "    .dataframe thead th {\n",
       "        text-align: right;\n",
       "    }\n",
       "</style>\n",
       "<table border=\"1\" class=\"dataframe\">\n",
       "  <thead>\n",
       "    <tr style=\"text-align: right;\">\n",
       "      <th></th>\n",
       "      <th>country</th>\n",
       "      <th>created_at</th>\n",
       "      <th>goal</th>\n",
       "      <th>category_name</th>\n",
       "      <th>converted_deadline</th>\n",
       "      <th>converted_launched_at</th>\n",
       "      <th>success</th>\n",
       "      <th>project_duration</th>\n",
       "      <th>usd_goal</th>\n",
       "    </tr>\n",
       "  </thead>\n",
       "  <tbody>\n",
       "    <tr>\n",
       "      <th>0</th>\n",
       "      <td>US</td>\n",
       "      <td>1541459205</td>\n",
       "      <td>28000.0</td>\n",
       "      <td>Footwear</td>\n",
       "      <td>2019-03-14 05:02:55</td>\n",
       "      <td>2019-01-23 06:02:55</td>\n",
       "      <td>0</td>\n",
       "      <td>0.521739</td>\n",
       "      <td>0.000184</td>\n",
       "    </tr>\n",
       "    <tr>\n",
       "      <th>1</th>\n",
       "      <td>US</td>\n",
       "      <td>1501684093</td>\n",
       "      <td>1000.0</td>\n",
       "      <td>Playing Cards</td>\n",
       "      <td>2017-09-09 17:00:59</td>\n",
       "      <td>2017-08-10 17:00:59</td>\n",
       "      <td>1</td>\n",
       "      <td>0.315217</td>\n",
       "      <td>0.000007</td>\n",
       "    </tr>\n",
       "    <tr>\n",
       "      <th>2</th>\n",
       "      <td>US</td>\n",
       "      <td>1348987533</td>\n",
       "      <td>15000.0</td>\n",
       "      <td>Rock</td>\n",
       "      <td>2013-06-12 05:03:15</td>\n",
       "      <td>2013-05-13 05:03:15</td>\n",
       "      <td>1</td>\n",
       "      <td>0.315217</td>\n",
       "      <td>0.000098</td>\n",
       "    </tr>\n",
       "  </tbody>\n",
       "</table>\n",
       "</div>"
      ],
      "text/plain": [
       "  country  created_at     goal  category_name  converted_deadline  \\\n",
       "0      US  1541459205  28000.0       Footwear 2019-03-14 05:02:55   \n",
       "1      US  1501684093   1000.0  Playing Cards 2017-09-09 17:00:59   \n",
       "2      US  1348987533  15000.0           Rock 2013-06-12 05:03:15   \n",
       "\n",
       "  converted_launched_at  success  project_duration  usd_goal  \n",
       "0   2019-01-23 06:02:55        0          0.521739  0.000184  \n",
       "1   2017-08-10 17:00:59        1          0.315217  0.000007  \n",
       "2   2013-05-13 05:03:15        1          0.315217  0.000098  "
      ]
     },
     "metadata": {},
     "output_type": "display_data"
    }
   ],
   "source": [
    "# Normalizing Numerical Features\n",
    "# Import sklearn.preprocessing.StandardScaler\n",
    "from sklearn.preprocessing import MinMaxScaler\n",
    "\n",
    "# Initialize a scaler, then apply it to the features\n",
    "scaler = MinMaxScaler()\n",
    "numerical = ['project_duration', 'usd_goal']\n",
    "df[numerical] = scaler.fit_transform(df[numerical])\n",
    "\n",
    "# Show an example of a record with scaling applied\n",
    "display(df.head(n = 3))"
   ]
  },
  {
   "cell_type": "code",
   "execution_count": 31,
   "metadata": {},
   "outputs": [
    {
     "data": {
      "image/png": "[encoded data removed]",
      "text/plain": [
       "<Figure size 1080x864 with 6 Axes>"
      ]
     },
     "metadata": {
      "needs_background": "light"
     },
     "output_type": "display_data"
    }
   ],
   "source": [
    "df.hist(figsize=(15, 12));"
   ]
  },
  {
   "cell_type": "code",
   "execution_count": 32,
   "metadata": {},
   "outputs": [
    {
     "data": {
      "text/plain": [
       "count    209222.000000\n",
       "mean          0.000269\n",
       "std           0.007352\n",
       "min           0.000000\n",
       "25%           0.000010\n",
       "50%           0.000033\n",
       "75%           0.000085\n",
       "max           1.000000\n",
       "Name: usd_goal, dtype: float64"
      ]
     },
     "execution_count": 32,
     "metadata": {},
     "output_type": "execute_result"
    }
   ],
   "source": [
    "df.usd_goal.describe()  #STH WENT WRONG!"
   ]
  },
  {
   "cell_type": "code",
   "execution_count": 33,
   "metadata": {},
   "outputs": [
    {
     "data": {
      "image/png": "[encoded data removed]",
      "text/plain": [
       "<Figure size 1080x864 with 1 Axes>"
      ]
     },
     "metadata": {
      "needs_background": "light"
     },
     "output_type": "display_data"
    }
   ],
   "source": [
    "# Log-transform the skewed feature\n",
    "df['usd_goal'] = df['usd_goal'].apply(lambda x: np.log(x + 1))\n",
    "\n",
    "# Visualize the new log distributions\n",
    "df.usd_goal.hist(figsize=(15, 12));"
   ]
  },
  {
   "cell_type": "markdown",
   "metadata": {},
   "source": [
    "### EDA"
   ]
  },
  {
   "cell_type": "code",
   "execution_count": 34,
   "metadata": {},
   "outputs": [
    {
     "data": {
      "text/plain": [
       "Index(['country', 'created_at', 'goal', 'category_name', 'converted_deadline',\n",
       "       'converted_launched_at', 'success', 'project_duration', 'usd_goal'],\n",
       "      dtype='object')"
      ]
     },
     "execution_count": 34,
     "metadata": {},
     "output_type": "execute_result"
    }
   ],
   "source": [
    "df.columns"
   ]
  },
  {
   "cell_type": "code",
   "execution_count": 35,
   "metadata": {},
   "outputs": [],
   "source": [
    "from matplotlib.ticker import PercentFormatter\n",
    "\n",
    "#Kickstarter projects by ...\n",
    "def percent_plot(df, title):\n",
    "    '''\n",
    "    INPUT: df- data of which to graph distribution\n",
    "            title- graph title\n",
    "    OUTPUT: Distribution of Data by Percentage Points\n",
    "    '''\n",
    "    ax = df.plot(kind='bar')\n",
    "    plt.title(title)\n",
    "    ax.yaxis.set_major_formatter(PercentFormatter())\n",
    "    plt.show();\n",
    "    "
   ]
  },
  {
   "cell_type": "code",
   "execution_count": 36,
   "metadata": {},
   "outputs": [
    {
     "data": {
      "image/png": "[encoded data removed]",
      "text/plain": [
       "<Figure size 432x288 with 1 Axes>"
      ]
     },
     "metadata": {
      "needs_background": "light"
     },
     "output_type": "display_data"
    }
   ],
   "source": [
    "#Kickstarter Projects by usd_goal\n",
    "percent_plot((df.usd_goal.value_counts()/df.shape[0]*100),\n",
    "             \"Kickstarter Projects by usd_goal\")"
   ]
  },
  {
   "cell_type": "code",
   "execution_count": 37,
   "metadata": {},
   "outputs": [
    {
     "data": {
      "image/png": "[encoded data removed]",
      "text/plain": [
       "<Figure size 432x288 with 1 Axes>"
      ]
     },
     "metadata": {
      "needs_background": "light"
     },
     "output_type": "display_data"
    }
   ],
   "source": [
    "#Kickstarter Projects by project_duration\n",
    "percent_plot((df.project_duration.value_counts()/df.shape[0]*100), \"Kickstarter Projects by project_duration\")"
   ]
  },
  {
   "cell_type": "code",
   "execution_count": 38,
   "metadata": {},
   "outputs": [
    {
     "ename": "SyntaxError",
     "evalue": "unexpected EOF while parsing (<ipython-input-38-9fd227c65ff6>, line 3)",
     "output_type": "error",
     "traceback": [
      "\u001b[0;36m  File \u001b[0;32m\"<ipython-input-38-9fd227c65ff6>\"\u001b[0;36m, line \u001b[0;32m3\u001b[0m\n\u001b[0;31m    \"Kickstarter Projects by Success\"\u001b[0m\n\u001b[0m                                     ^\u001b[0m\n\u001b[0;31mSyntaxError\u001b[0m\u001b[0;31m:\u001b[0m unexpected EOF while parsing\n"
     ]
    }
   ],
   "source": [
    "#Kickstarter Projects by Success\n",
    "percent_plot((df.success.value_counts()/df.shape[0]*100),\n",
    "             \"Kickstarter Projects by Success\""
   ]
  },
  {
   "cell_type": "code",
   "execution_count": null,
   "metadata": {},
   "outputs": [],
   "source": [
    "#Kickstarter Projects by country\n",
    "percent_plot((df.country.value_counts()/df.shape[0]*100), \"Kickstarter Projects by Country\")"
   ]
  },
  {
   "cell_type": "code",
   "execution_count": null,
   "metadata": {},
   "outputs": [],
   "source": []
  },
  {
   "cell_type": "code",
   "execution_count": null,
   "metadata": {},
   "outputs": [],
   "source": [
    "#Calculation of correlations\n",
    "\n",
    "# Correlation Matrix\n",
    "# Compute the correlation matrix\n",
    "d = df[['country', 'created_at', 'category_name', 'converted_deadline',\n",
    "       'converted_launched_at', 'success', 'project_duration', 'usd_goal']]\n",
    "corr = d.corr()\n",
    "\n",
    "# Generate a mask for the upper triangle\n",
    "mask = np.zeros_like(corr, dtype=np.bool)\n",
    "mask[np.triu_indices_from(mask)] = True\n",
    "\n",
    "# Set up the matplotlib figure\n",
    "f, ax = plt.subplots(figsize=(23, 14))\n",
    "\n",
    "# Generate a custom diverging colormap\n",
    "cmap = sns.diverging_palette(220, 10, as_cmap=True)\n",
    "\n",
    "# Draw the heatmap with the mask and correct aspect ratio\n",
    "sns.heatmap(corr, mask=mask, \n",
    "            square=True, linewidths=.5, annot=True, cmap=cmap)\n",
    "plt.yticks(rotation=0)\n",
    "plt.title('Correlation Matrix of all Numerical Variables', fontsize=20)\n",
    "plt.show()\n",
    "\n",
    "#According to correlation matrix sqft_living and grade are strongly correlated with the price. "
   ]
  },
  {
   "cell_type": "code",
   "execution_count": null,
   "metadata": {},
   "outputs": [],
   "source": [
    "#Price by square foot of lifing\n",
    "plt.figure(figsize=(20,16))\n",
    "sns.scatterplot(data=df, x=\"project_duration\", y=\"usd_goal\", color='indigo')\n",
    "plt.title('usd_goal by project duration', fontsize=20)\n",
    "plt.show()\n",
    "#The house price inceases with its size.\n"
   ]
  },
  {
   "cell_type": "code",
   "execution_count": null,
   "metadata": {},
   "outputs": [],
   "source": [
    "# usd_goal by project_duration by category_name\n",
    "plt.figure(figsize=(20,16))\n",
    "sns.scatterplot(data=df, x=\"project_duration\", y=\"usd_goal\", hue='category_name', palette='magma')\n",
    "plt.title('usd_goal by project_duration by category_name', fontsize=20)\n",
    "plt.show()"
   ]
  },
  {
   "cell_type": "code",
   "execution_count": null,
   "metadata": {},
   "outputs": [],
   "source": [
    "#Duration of a sucessful project\n",
    "plt.hist(df[df.success==1].project_duration, bins=20)\n",
    "plt.title('Successful Project Duration')\n",
    "plt.xlabel('# of hours')\n",
    "plt.ylabel('# of projects');"
   ]
  },
  {
   "cell_type": "code",
   "execution_count": null,
   "metadata": {},
   "outputs": [],
   "source": [
    "def corr_plot(features, fig_size):\n",
    "    '''\n",
    "    INPUT: features- which columns of df_encoded to calculate correlation\n",
    "            fig_size- size of the correlation heatmap for ease of reading\n",
    "    OUTPUT: Seaborn Heatmap of Correlations\n",
    "    '''\n",
    "    corr=df[features].corr()\n",
    "    fig, ax = plt.subplots(figsize=fig_size)\n",
    "    sns.heatmap(corr, xticklabels=corr.columns, yticklabels=corr.columns, \n",
    "            ax=ax, linewidths=0.01);"
   ]
  },
  {
   "cell_type": "code",
   "execution_count": null,
   "metadata": {},
   "outputs": [],
   "source": [
    "#correlation between the time, and goal and pldeged money\n",
    "corr_plot(['success','project_duration', 'usd_goal'], (5,5))"
   ]
  },
  {
   "cell_type": "code",
   "execution_count": null,
   "metadata": {},
   "outputs": [],
   "source": [
    "#correlation between sphere of project and success\n",
    "corr_plot(['success','main_category_Art', 'main_category_Comics',\n",
    "       'main_category_Crafts', 'main_category_Dance', 'main_category_Design',\n",
    "       'main_category_Fashion', 'main_category_Film & Video',\n",
    "       'main_category_Food', 'main_category_Games', 'main_category_Journalism',\n",
    "       'main_category_Music', 'main_category_Photography',\n",
    "       'main_category_Publishing', 'main_category_Technology',\n",
    "       'main_category_Theater'], (10,10))"
   ]
  },
  {
   "cell_type": "code",
   "execution_count": null,
   "metadata": {},
   "outputs": [],
   "source": [
    "df.category_name.unique() #GET MAIN CATEGORY"
   ]
  },
  {
   "cell_type": "code",
   "execution_count": null,
   "metadata": {},
   "outputs": [],
   "source": []
  },
  {
   "cell_type": "code",
   "execution_count": null,
   "metadata": {},
   "outputs": [],
   "source": []
  }
 ],
 "metadata": {
  "kernelspec": {
   "display_name": "Python [conda env:nf_2nd_project] *",
   "language": "python",
   "name": "conda-env-nf_2nd_project-py"
  },
  "language_info": {
   "codemirror_mode": {
    "name": "ipython",
    "version": 3
   },
   "file_extension": ".py",
   "mimetype": "text/x-python",
   "name": "python",
   "nbconvert_exporter": "python",
   "pygments_lexer": "ipython3",
   "version": "3.8.5"
  }
 },
 "nbformat": 4,
 "nbformat_minor": 4
}
