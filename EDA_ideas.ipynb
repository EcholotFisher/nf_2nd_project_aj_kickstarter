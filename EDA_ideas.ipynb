{
 "cells": [
  {
   "cell_type": "markdown",
   "metadata": {},
   "source": [
    "## Business Questions\n",
    "* What is the most important feature (if any) in the success of a Kickstarter project?  \n",
    "* What category of project would most likely succeed (Art, Photography, Tech etc.)?  \n",
    "* Are there any discernible differences between successful and failed projects?   \n",
    "\n",
    "* Is there a best month? Or best time to launch a project to increase chances of success?  \n",
    "* Is there a higher chance of success if I have many small backers or few big ones?\n",
    "* Do I raise more if I have many small backers or a few big ones? "
   ]
  },
  {
   "cell_type": "markdown",
   "metadata": {},
   "source": [
    "## Data set description & understanding\n",
    "* General sample size?\n",
    "* Percentage of Kickstarter projects that succeed? \n"
   ]
  },
  {
   "cell_type": "markdown",
   "metadata": {},
   "source": [
    " usd pledged: it has missing values, it is kickstarter information given about pledge amount in USD but this is already included in usd_pledged_real "
   ]
  },
  {
   "cell_type": "markdown",
   "metadata": {},
   "source": [
    "## Preprocessing the data"
   ]
  },
  {
   "cell_type": "markdown",
   "metadata": {},
   "source": [
    "### Transform data"
   ]
  },
  {
   "cell_type": "code",
   "execution_count": null,
   "metadata": {},
   "outputs": [],
   "source": [
    "#Transform deadline\n",
    "df['deadline'] = pd.to_datetime(df['deadline'])\n",
    "df['deadline'].sort_values().head()"
   ]
  },
  {
   "cell_type": "code",
   "execution_count": null,
   "metadata": {},
   "outputs": [],
   "source": [
    "#Alternatively\n",
    "data_kick['deadline'] = pd.to_datetime(data_kick['deadline'],\n",
    "format='%Y-%m-%d %H:%M:%S')"
   ]
  },
  {
   "cell_type": "code",
   "execution_count": null,
   "metadata": {},
   "outputs": [],
   "source": [
    "#convert to common datetime format\n",
    "df.launched = pd.to_datetime(df.launched)"
   ]
  },
  {
   "cell_type": "code",
   "execution_count": null,
   "metadata": {},
   "outputs": [],
   "source": [
    "#Alternatively\n",
    "data_kick['launched'] = pd.to_datetime(data_kick['launched'],\n",
    "format='%Y-%m-%d %H:%M:%S')"
   ]
  },
  {
   "cell_type": "code",
   "execution_count": null,
   "metadata": {},
   "outputs": [],
   "source": [
    "#Get rid of '  '\n",
    "df.columns = [s.replace(' ','') for s in df.columns]"
   ]
  },
  {
   "cell_type": "markdown",
   "metadata": {},
   "source": [
    "### Explore data"
   ]
  },
  {
   "cell_type": "code",
   "execution_count": null,
   "metadata": {},
   "outputs": [],
   "source": [
    "#look at null values\n",
    "df.isnull().sum()"
   ]
  },
  {
   "cell_type": "code",
   "execution_count": null,
   "metadata": {},
   "outputs": [],
   "source": [
    "#Check out counts in the project categories\n",
    "df.category.value_counts()"
   ]
  },
  {
   "cell_type": "code",
   "execution_count": null,
   "metadata": {},
   "outputs": [],
   "source": [
    "#Check out counts of the project sub-categories\n",
    "df.main_category.value_counts()"
   ]
  },
  {
   "cell_type": "code",
   "execution_count": null,
   "metadata": {},
   "outputs": [],
   "source": [
    "#main_category will help us keep dimensionality low after one hot encoding\n",
    "print(len(df.category.unique()))\n",
    "print(len(df.main_category.unique())) "
   ]
  },
  {
   "cell_type": "code",
   "execution_count": null,
   "metadata": {},
   "outputs": [],
   "source": [
    "#Check if ID column is unique\n",
    "df.shape[0]==len(df.ID.unique())"
   ]
  },
  {
   "cell_type": "code",
   "execution_count": null,
   "metadata": {},
   "outputs": [],
   "source": [
    "#investigate data per country\n",
    "df.country.value_counts()\n",
    "#N,0\" engineering to 'NO'\n",
    "df.country = df.country.replace(to_replace='N,0\"', value='NO')"
   ]
  },
  {
   "cell_type": "code",
   "execution_count": null,
   "metadata": {},
   "outputs": [],
   "source": []
  },
  {
   "cell_type": "markdown",
   "metadata": {},
   "source": [
    "### Feature engineering"
   ]
  },
  {
   "cell_type": "code",
   "execution_count": null,
   "metadata": {},
   "outputs": [],
   "source": [
    "#engineer a 'success' variable\n",
    "#I will engineer a success variable from the information that is already in the dataset. I am defining success by a project raising at least as much as their goal had stipulated. \n",
    "#This is also how Kickstarter defines success.\n",
    "df['success'] = (df.usd_goal_real <= df.usd_pledged_real)*1\n",
    "df.success.describe()"
   ]
  },
  {
   "cell_type": "code",
   "execution_count": null,
   "metadata": {},
   "outputs": [],
   "source": [
    "#return only successful and failed projects. \n",
    "#This makes things more clear later on\n",
    "data_kick = data_kick.loc[data_kick['state'].isin(\n",
    "            ['successful', 'failed'])]"
   ]
  },
  {
   "cell_type": "code",
   "execution_count": null,
   "metadata": {},
   "outputs": [],
   "source": [
    "#engineer duration variable\n",
    "#I will also engineer a duration feature to see if the timeline of a project influences the chances at success. The dataset contains information about the date and time a project was launched, and what the fundraising deadline was. \n",
    "#From this it is straightforward to calculate how many hours the fundraising was supposed to last.\n",
    "df['duration'] = (df.deadline - df.launched).astype('timedelta64[h]')"
   ]
  },
  {
   "cell_type": "code",
   "execution_count": null,
   "metadata": {},
   "outputs": [],
   "source": [
    "#One hot encode categorical variables, dropping unneeded variables\n",
    "#I want to one hot encode the categorical variables: main_category and coutnry. \n",
    "#This means that each state in each feature will be represented as a binary state. \n",
    "#For example if a project originated in the U.S. that will be denoted as a value of 1 in the dataset, and all other countries will have a value of 0 for that project. \n",
    "#This will make it easier for any models we deal by quantifying non-numerical values.\n",
    "df_encoded = pd.get_dummies(df.drop(labels=['name', 'launched', 'deadline',\n",
    "                                            'category', 'currency', 'usd pledged', 'pledged',\n",
    "                                            'ID', 'goal'], axis=1), \n",
    "                            columns=['main_category', 'country'])\n",
    "\n"
   ]
  },
  {
   "cell_type": "code",
   "execution_count": null,
   "metadata": {},
   "outputs": [],
   "source": [
    "##add a variable that shows average pledge for each project\n",
    "#The average amount contributed to a project can give us some insight about whether we want to encourage many small contributions or a few larger ones.\n",
    "df_encoded['average_backing'] = (df_encoded['usd_pledged_real']/(df_encoded['backers']+1))"
   ]
  },
  {
   "cell_type": "markdown",
   "metadata": {},
   "source": [
    "## Data analysis"
   ]
  },
  {
   "cell_type": "code",
   "execution_count": null,
   "metadata": {},
   "outputs": [],
   "source": [
    "#Kickstarter Projects by Success\n",
    "percent_plot((df_encoded.success.value_counts()/df.shape[0]*100),\n",
    "             \"Kickstarter Projects by Success\")"
   ]
  },
  {
   "cell_type": "code",
   "execution_count": null,
   "metadata": {},
   "outputs": [],
   "source": [
    "#Kickstarter projects by country\n",
    "def percent_plot(data, title):\n",
    "    '''\n",
    "    INPUT: data- data of which to graph distribution\n",
    "            title- graph title\n",
    "    OUTPUT: Distribution of Data by Percentage Points\n",
    "    '''\n",
    "    ax = data.plot(kind='bar')\n",
    "    plt.title(title)\n",
    "    ax.yaxis.set_major_formatter(PercentFormatter())\n",
    "    plt.show();\n",
    "    \n",
    "percent_plot((df.country.value_counts()/df.shape[0]*100), \"Kickstarter Projects by Country\")"
   ]
  },
  {
   "cell_type": "code",
   "execution_count": null,
   "metadata": {},
   "outputs": [],
   "source": [
    "#successful projects by country`\n",
    "percent_plot((df[df.usd_pledged_real>=df.usd_goal_real].country.value_counts()/\n",
    "              df[df.usd_pledged_real>=df.usd_goal_real].shape[0]*100), \n",
    "             \"Successful Kickstarter Projects by Country\")"
   ]
  },
  {
   "cell_type": "code",
   "execution_count": null,
   "metadata": {},
   "outputs": [],
   "source": [
    "#Kickstarter projects by category\n",
    "percent_plot((df.main_category.value_counts()/df.shape[0]*100), \n",
    "             \"Kickstarter Projects by Category\")"
   ]
  },
  {
   "cell_type": "code",
   "execution_count": null,
   "metadata": {},
   "outputs": [],
   "source": [
    "#categories of successful projects\n",
    "percent_plot((df[df.usd_pledged_real>=df.usd_goal_real].main_category.value_counts()/\n",
    "              df[df.usd_pledged_real>=df.usd_goal_real].shape[0]*100), \n",
    "             \"Successful Kickstarter Projects by Category\")"
   ]
  },
  {
   "cell_type": "code",
   "execution_count": null,
   "metadata": {},
   "outputs": [],
   "source": [
    "#Relationship between a project’s goal and the actual amount pledged.\n",
    "#It is quite obvious that a project is labelled as successful if\n",
    "#amount pledged ≥ goal and unsuccessful if amount pledged < goal. \n",
    "#define colors (darkgreen for successful projects and darkred for failed ones\n",
    "colors = ('darkgreen','darkred')\n",
    "#create a plot using seaborn, adjust data to millions\n",
    "ax = sns.scatterplot(data_kick.usd_pledged_real/1e6, \n",
    "                     data_kick.usd_goal_real/1e6, hue=data_kick.state, palette=colors)\n",
    "#add blue line to better visualize the border between failed and successful projects\n",
    "sns.lineplot(x=(0,50), y=(0,50), color='darkblue')\n",
    "#set the axes from -1 to their maximum (-1 looks better than 0 actually)\n",
    "ax.set(ylim=(-1,None), xlim=(-1,None))\n",
    "#set labels and title\n",
    "ax.set(xlabel='Amount Pledged in Millions', ylabel='Goal in Millions', title= 'Goal vs. Pledged')"
   ]
  },
  {
   "cell_type": "code",
   "execution_count": null,
   "metadata": {},
   "outputs": [],
   "source": [
    "#Duration of a sucessful project\n",
    "plt.hist(df_encoded[df_encoded.success==1].duration, bins=20)\n",
    "plt.title('Successful Project Duration')\n",
    "plt.xlabel('# of hours')\n",
    "plt.ylabel('# of projects');"
   ]
  },
  {
   "cell_type": "code",
   "execution_count": null,
   "metadata": {},
   "outputs": [],
   "source": [
    "#Summary stats on the duration of sucessfull projects\n",
    "df_encoded[df_encoded.success==1].duration.describe()"
   ]
  },
  {
   "cell_type": "code",
   "execution_count": null,
   "metadata": {},
   "outputs": [],
   "source": [
    "#Summary stats on the duration of UNsucessfull projects\n",
    "df_encoded[df_encoded.success==0].duration.describe()"
   ]
  },
  {
   "cell_type": "code",
   "execution_count": null,
   "metadata": {},
   "outputs": [],
   "source": [
    "#Summary stats on the amount of raised money of sucessfull projects\n",
    "df_encoded[df_encoded.success==1].usd_goal_real.describe()"
   ]
  },
  {
   "cell_type": "code",
   "execution_count": null,
   "metadata": {},
   "outputs": [],
   "source": [
    "#Summary stats on the average pledge of sucessfull projects\n",
    "df_encoded[df_encoded.success==1].average_backing.describe()"
   ]
  },
  {
   "cell_type": "code",
   "execution_count": null,
   "metadata": {},
   "outputs": [],
   "source": [
    "#Correlation matrix\n",
    "def corr_plot(features, fig_size):\n",
    "    '''\n",
    "    INPUT: features- which columns of df_encoded to calculate correlation\n",
    "            fig_size- size of the correlation heatmap for ease of reading\n",
    "    OUTPUT: Seaborn Heatmap of Correlations\n",
    "    '''\n",
    "    corr=df_encoded[features].corr()\n",
    "    fig, ax = plt.subplots(figsize=fig_size)\n",
    "    sns.heatmap(corr, xticklabels=corr.columns, yticklabels=corr.columns, \n",
    "            ax=ax, linewidths=0.01);"
   ]
  },
  {
   "cell_type": "code",
   "execution_count": null,
   "metadata": {},
   "outputs": [],
   "source": [
    "#correlation between the time, and goal and pldeged money\n",
    "corr_plot(['success','duration', 'cancelled', 'usd_goal_real', \n",
    "                        'usd_pledged_real', 'backers', 'average_backing'], (5,5))"
   ]
  },
  {
   "cell_type": "code",
   "execution_count": null,
   "metadata": {},
   "outputs": [],
   "source": [
    "#correlation between success and country of origin for project\n",
    "corr_plot(['success', 'country_AT', 'country_AU', 'country_BE',\n",
    "       'country_CA', 'country_CH', 'country_DE', 'country_DK', 'country_ES',\n",
    "       'country_FR', 'country_GB', 'country_HK', 'country_IE', 'country_IT',\n",
    "       'country_JP', 'country_LU', 'country_MX', 'country_NL', 'country_NO',\n",
    "       'country_NZ', 'country_SE', 'country_SG', 'country_US'], (10,10))"
   ]
  },
  {
   "cell_type": "code",
   "execution_count": null,
   "metadata": {},
   "outputs": [],
   "source": [
    "#correlation between sphere of project and success\n",
    "corr_plot(['success','main_category_Art', 'main_category_Comics',\n",
    "       'main_category_Crafts', 'main_category_Dance', 'main_category_Design',\n",
    "       'main_category_Fashion', 'main_category_Film & Video',\n",
    "       'main_category_Food', 'main_category_Games', 'main_category_Journalism',\n",
    "       'main_category_Music', 'main_category_Photography',\n",
    "       'main_category_Publishing', 'main_category_Technology',\n",
    "       'main_category_Theater'], (10,10))"
   ]
  },
  {
   "cell_type": "markdown",
   "metadata": {},
   "source": [
    "## ML Classification Model"
   ]
  },
  {
   "cell_type": "markdown",
   "metadata": {},
   "source": [
    "* Random forest classifier as base? \n",
    "* Grid search to optimize random forest classifier?\n",
    "* Answer to the question: which features were most important in model?\n",
    "* https://github.com/mkucz95/kickstarter_data/blob/master/kickstarter_data.ipynb"
   ]
  },
  {
   "cell_type": "code",
   "execution_count": null,
   "metadata": {},
   "outputs": [],
   "source": []
  },
  {
   "cell_type": "code",
   "execution_count": null,
   "metadata": {},
   "outputs": [],
   "source": []
  },
  {
   "cell_type": "code",
   "execution_count": null,
   "metadata": {},
   "outputs": [],
   "source": []
  }
 ],
 "metadata": {
  "kernelspec": {
   "display_name": "Python [conda env:nf_2nd_project] *",
   "language": "python",
   "name": "conda-env-nf_2nd_project-py"
  },
  "language_info": {
   "codemirror_mode": {
    "name": "ipython",
    "version": 3
   },
   "file_extension": ".py",
   "mimetype": "text/x-python",
   "name": "python",
   "nbconvert_exporter": "python",
   "pygments_lexer": "ipython3",
   "version": "3.8.5"
  }
 },
 "nbformat": 4,
 "nbformat_minor": 4
}
